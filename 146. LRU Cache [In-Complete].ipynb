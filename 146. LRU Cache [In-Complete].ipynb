{
 "cells": [
  {
   "cell_type": "markdown",
   "id": "7711a945",
   "metadata": {},
   "source": [
    "*deerajmanjaray1997@gmail.com*"
   ]
  },
  {
   "cell_type": "markdown",
   "id": "f657d93d",
   "metadata": {},
   "source": [
    "Design a data structure that follows the constraints of a [Least Recently Used (LRU) cache](https://en.wikipedia.org/wiki/Cache_replacement_policies#LRU).\n",
    "\n",
    "Implement the ```LRUCache``` class:\n",
    "\n",
    " - ```LRUCache(int capacity)``` Initialize the LRU cache with positive size ```capacity```.\n",
    " - ```int get(int key)``` Return the value of the key if the ```key``` exists, otherwise return ```-1```.\n",
    " -  ```void put(int key, int value)``` Update the value of the ```key``` if the ```key``` exists. Otherwise, add the ```key-value``` pair to the cache. If the number of keys exceeds the ```capacity``` from this operation, evict the least recently used key.\n",
    "The functions ```get``` and ```put``` must each run in ```O(1)``` average time complexity."
   ]
  },
  {
   "cell_type": "markdown",
   "id": "483a0628",
   "metadata": {},
   "source": [
    "**Example 1:**\n",
    "\n",
    "**Input:** [\"LRUCache\", \"put\", \"put\", \"get\", \"put\", \"get\", \"put\", \"get\", \"get\", \"get\"]\n",
    "[[2], [1, 1], [2, 2], [1], [3, 3], [2], [4, 4], [1], [3], [4]]\n",
    "\n",
    "**Output:** [null, null, null, 1, null, -1, null, -1, 3, 4]\n",
    "\n",
    "**Explanation:**\n",
    "\n",
    "LRUCache lRUCache = new LRUCache(2);\n",
    "\n",
    "lRUCache.put(1, 1); // cache is {1=1}\n",
    "\n",
    "lRUCache.put(2, 2); // cache is {1=1, 2=2}\n",
    "\n",
    "lRUCache.get(1);    // return 1\n",
    "\n",
    "lRUCache.put(3, 3); // LRU key was 2, evicts key 2, cache is {1=1, 3=3}\n",
    "\n",
    "lRUCache.get(2);    // returns -1 (not found)\n",
    "\n",
    "lRUCache.put(4, 4); // LRU key was 1, evicts key 1, cache is {4=4, 3=3}\n",
    "\n",
    "lRUCache.get(1);    // return -1 (not found)\n",
    "\n",
    "lRUCache.get(3);    // return 3\n",
    "\n",
    "lRUCache.get(4);    // return 4"
   ]
  },
  {
   "cell_type": "markdown",
   "id": "29f4fa64",
   "metadata": {},
   "source": [
    "# Python Solution"
   ]
  },
  {
   "cell_type": "code",
   "execution_count": 7,
   "id": "bc749fc8",
   "metadata": {},
   "outputs": [],
   "source": [
    "class LRUCache:\n",
    "\n",
    "    def __init__(self, capacity: int):\n",
    "        \n",
    "\n",
    "    def get(self, key: int) -> int:\n",
    "        \n",
    "\n",
    "    def put(self, key: int, value: int) -> None:\n",
    "        \n",
    "\n",
    "\n",
    "# Your LRUCache object will be instantiated and called as such:\n",
    "# obj = LRUCache(capacity)\n",
    "# param_1 = obj.get(key)\n",
    "# obj.put(key,value)"
   ]
  },
  {
   "cell_type": "code",
   "execution_count": 26,
   "id": "ef4701e7",
   "metadata": {},
   "outputs": [],
   "source": [
    "def grayCode(n: int) -> list[int]:\n",
    "    ans = [0]\n",
    "    for i in range(n):\n",
    "        print(i, len(ans), \"******\")\n",
    "        for j in reversed(range(len(ans))):\n",
    "            print(j, ans[j] , 1 << i,\"----\")\n",
    "        ans.append(ans[j] | 1 << i)\n",
    "        print(ans,\"____________\")\n",
    "\n",
    "    return ans"
   ]
  },
  {
   "cell_type": "code",
   "execution_count": 27,
   "id": "b401b9be",
   "metadata": {},
   "outputs": [
    {
     "name": "stdout",
     "output_type": "stream",
     "text": [
      "0 1 ******\n",
      "0 0 1 ----\n",
      "[0, 1] ____________\n",
      "1 2 ******\n",
      "1 1 2 ----\n",
      "0 0 2 ----\n",
      "[0, 1, 2] ____________\n",
      "2 3 ******\n",
      "2 2 4 ----\n",
      "1 1 4 ----\n",
      "0 0 4 ----\n",
      "[0, 1, 2, 4] ____________\n",
      "3 4 ******\n",
      "3 4 8 ----\n",
      "2 2 8 ----\n",
      "1 1 8 ----\n",
      "0 0 8 ----\n",
      "[0, 1, 2, 4, 8] ____________\n",
      "4 5 ******\n",
      "4 8 16 ----\n",
      "3 4 16 ----\n",
      "2 2 16 ----\n",
      "1 1 16 ----\n",
      "0 0 16 ----\n",
      "[0, 1, 2, 4, 8, 16] ____________\n"
     ]
    },
    {
     "data": {
      "text/plain": [
       "[0, 1, 2, 4, 8, 16]"
      ]
     },
     "execution_count": 27,
     "metadata": {},
     "output_type": "execute_result"
    }
   ],
   "source": [
    "grayCode(5)"
   ]
  },
  {
   "cell_type": "markdown",
   "id": "d989b188",
   "metadata": {},
   "source": [
    "<a href=\"https://github.com/DJ-Manjaray\" target=\"_blank\" class=\"top-left-corner\">\n",
    "  <img src=\"https://icons.iconarchive.com/icons/simpleicons-team/simple/32/github-icon.png\" width=\"32\" height=\"32\" alt=\"Deeraj Manjaray Github Profile\">\n",
    "</a>"
   ]
  },
  {
   "cell_type": "markdown",
   "id": "30dad0bf",
   "metadata": {},
   "source": [
    "<a href=\"https://www.linkedin.com/in/deeraj-manjaray/\" target=\"_blank\" class=\"top-left-corner\">\n",
    "  <img src=\"https://icons.iconarchive.com/icons/limav/flat-gradient-social/32/Linkedin-icon.png\" width=\"32\" height=\"32\" alt=\"Deeraj Manjaray LinkedIn Profile\">\n",
    "</a>"
   ]
  },
  {
   "cell_type": "markdown",
   "id": "46244b22",
   "metadata": {},
   "source": [
    "<a href=\"https://medium.com/@deeraj-manjaray\" target=\"_blank\" class=\"top-left-corner\">\n",
    "    <img src=\"https://icons.iconarchive.com/icons/simpleicons-team/simple/32/medium-icon.png\" width=\"32\" height=\"32\" alt=\"Deeraj Manjaray Medium Profile\">\n",
    "</a>"
   ]
  },
  {
   "cell_type": "markdown",
   "id": "1119dbf1",
   "metadata": {},
   "source": [
    "<a href=\"https://twitter.com/deerajmanjaray\" target=\"_blank\" class=\"top-left-corner\">\n",
    "    <img src=\"https://icons.iconarchive.com/icons/sicons/basic-round-social/32/twitter-icon.png\" width=\"32\" height=\"32\" alt=\"Deeraj Manjaray Twitter Profile\">\n",
    "</a>"
   ]
  },
  {
   "cell_type": "markdown",
   "id": "f63a78ca",
   "metadata": {},
   "source": [
    "*deerajmanjaray1997@gmail.com*"
   ]
  }
 ],
 "metadata": {
  "kernelspec": {
   "display_name": "Python 3 (ipykernel)",
   "language": "python",
   "name": "python3"
  },
  "language_info": {
   "codemirror_mode": {
    "name": "ipython",
    "version": 3
   },
   "file_extension": ".py",
   "mimetype": "text/x-python",
   "name": "python",
   "nbconvert_exporter": "python",
   "pygments_lexer": "ipython3",
   "version": "3.10.12"
  }
 },
 "nbformat": 4,
 "nbformat_minor": 5
}
