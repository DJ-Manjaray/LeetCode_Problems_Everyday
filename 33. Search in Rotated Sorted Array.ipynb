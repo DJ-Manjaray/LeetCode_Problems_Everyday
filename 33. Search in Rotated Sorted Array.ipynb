{
 "cells": [
  {
   "cell_type": "markdown",
   "id": "7711a945",
   "metadata": {},
   "source": [
    "*deerajmanjaray1997@gmail.com*"
   ]
  },
  {
   "cell_type": "markdown",
   "id": "f657d93d",
   "metadata": {},
   "source": [
    "There is an integer array ```nums``` sorted in ascending order (with distinct values).\n",
    "\n",
    "Prior to being passed to your function, ```nums``` is possibly rotated at an unknown pivot index ```k``` (```1 <= k < nums.length```) such that the resulting array is ```[nums[k], nums[k+1], ..., nums[n-1], nums[0], nums[1], ..., nums[k-1]]``` (0-indexed). For example, ```[0,1,2,4,5,6,7]``` might be rotated at pivot index ```3```and become ```[4,5,6,7,0,1,2]```.\n",
    "\n",
    "Given the array ```nums``` after the possible rotation and an integer ```target```, return the index of ```target``` if it is in ```nums```, or ```-1``` if it is not in ```nums```.\n",
    "\n",
    "You must write an algorithm with ```O(log n)``` runtime complexity.\n",
    "\n"
   ]
  },
  {
   "cell_type": "markdown",
   "id": "483a0628",
   "metadata": {},
   "source": [
    "**Example 1:**\n",
    "\n",
    "**Input:** nums = [4,5,6,7,0,1,2], target = 0\n",
    "\n",
    "**Output:** 4"
   ]
  },
  {
   "cell_type": "markdown",
   "id": "345d51ca",
   "metadata": {},
   "source": [
    "**Example 2:**\n",
    "\n",
    "**Input:** nums = [4,5,6,7,0,1,2], target = 3\n",
    "\n",
    "**Output:** -1"
   ]
  },
  {
   "cell_type": "markdown",
   "id": "3895244b",
   "metadata": {},
   "source": [
    "**Example 3:**\n",
    "\n",
    "**Input:** nums = [1], target = 0\n",
    "\n",
    "**Output:** -1"
   ]
  },
  {
   "cell_type": "markdown",
   "id": "29f4fa64",
   "metadata": {},
   "source": [
    "# Python Solution"
   ]
  },
  {
   "cell_type": "code",
   "execution_count": 7,
   "id": "bc749fc8",
   "metadata": {},
   "outputs": [],
   "source": [
    "class Solution:\n",
    "    def search(self, nums: List[int], target: int) -> int:\n",
    "        "
   ]
  },
  {
   "cell_type": "code",
   "execution_count": 2,
   "id": "ef4701e7",
   "metadata": {},
   "outputs": [],
   "source": [
    "class Solution:\n",
    "    def search(self, nums: list[int], target: int) -> int:\n",
    "        l, r = 0, len(nums)-1\n",
    "        while l < r:\n",
    "            mid = (l+r)//2\n",
    "            if target == nums[mid]:\n",
    "                return mid\n",
    "            if nums[l]<= nums[mid]:\n",
    "                \n",
    "                if target > nums[mid] or target < nums[l]:\n",
    "                    l = mid + 1\n",
    "                else:\n",
    "                    r = mid - 1\n",
    "            else:\n",
    "                if target < nums[mid] or target > nums[r]:\n",
    "                    r = mid + 1\n",
    "                else:\n",
    "                    l = mid - 1\n",
    "        return -1"
   ]
  },
  {
   "cell_type": "code",
   "execution_count": 4,
   "id": "b401b9be",
   "metadata": {},
   "outputs": [],
   "source": [
    "# Leetcode solution\n",
    "\n",
    "class Solution:\n",
    "\n",
    "    def binarySearch(self, nums, target, left, right):\n",
    "        #print((left, right))\n",
    "        while left <= right:\n",
    "            mid = left + (right - left) // 2\n",
    "            if nums[mid] == target:\n",
    "                return mid\n",
    "            if nums[mid] < target:\n",
    "                left = mid + 1\n",
    "            else:\n",
    "                right = mid - 1\n",
    "        return -1\n",
    "\n",
    "    def search(self, nums: list[int], target: int) -> int:\n",
    "        left, right = 0, len(nums) - 1\n",
    "        while left <= right:\n",
    "            mid = left + (right - left) // 2\n",
    "            if nums[mid] <= nums[-1]:\n",
    "                right = mid - 1\n",
    "            else:\n",
    "                left = mid + 1\n",
    "        #print(left, right)\n",
    "        if nums[0] <= target and left > 0 and target <= nums[left-1]:\n",
    "            return self.binarySearch(nums, target, 0, left - 1)\n",
    "        else:\n",
    "            return self.binarySearch(nums, target, left, len(nums) - 1)\n",
    "\n",
    "\n",
    "        "
   ]
  },
  {
   "cell_type": "code",
   "execution_count": 6,
   "id": "85a66008",
   "metadata": {},
   "outputs": [],
   "source": [
    "class Solution:\n",
    "    def search(self, nums: list[int], target: int) -> int:\n",
    "        \n",
    "        left, right = 0, len(nums)-1\n",
    "        \n",
    "        def condition(target, l, m, r):\n",
    "            if nums[l] <= target <= nums[m]:\n",
    "                return True\n",
    "            else:\n",
    "                if nums[l] > nums[m]:\n",
    "                    if (target >= nums[l]) or (target <= nums[m]):\n",
    "                        return True\n",
    "\n",
    "        while left<right:\n",
    "            mid = left + (right-left)//2\n",
    "            print(nums[left], nums[mid], nums[right])\n",
    "            if condition(target, left, mid, right):\n",
    "                right = mid\n",
    "            else:\n",
    "                left = mid + 1\n",
    "                    \n",
    "        return left if nums[left]==target else -1\n",
    "        "
   ]
  },
  {
   "cell_type": "markdown",
   "id": "d989b188",
   "metadata": {},
   "source": [
    "<a href=\"https://github.com/DJ-Manjaray\" target=\"_blank\" class=\"top-left-corner\">\n",
    "  <img src=\"https://icons.iconarchive.com/icons/simpleicons-team/simple/32/github-icon.png\" width=\"32\" height=\"32\" alt=\"Deeraj Manjaray Github Profile\">\n",
    "</a>"
   ]
  },
  {
   "cell_type": "markdown",
   "id": "30dad0bf",
   "metadata": {},
   "source": [
    "<a href=\"https://www.linkedin.com/in/deeraj-manjaray/\" target=\"_blank\" class=\"top-left-corner\">\n",
    "  <img src=\"https://icons.iconarchive.com/icons/limav/flat-gradient-social/32/Linkedin-icon.png\" width=\"32\" height=\"32\" alt=\"Deeraj Manjaray LinkedIn Profile\">\n",
    "</a>"
   ]
  },
  {
   "cell_type": "markdown",
   "id": "46244b22",
   "metadata": {},
   "source": [
    "<a href=\"https://medium.com/@deeraj-manjaray\" target=\"_blank\" class=\"top-left-corner\">\n",
    "    <img src=\"https://icons.iconarchive.com/icons/simpleicons-team/simple/32/medium-icon.png\" width=\"32\" height=\"32\" alt=\"Deeraj Manjaray Medium Profile\">\n",
    "</a>"
   ]
  },
  {
   "cell_type": "markdown",
   "id": "1119dbf1",
   "metadata": {},
   "source": [
    "<a href=\"https://twitter.com/deerajmanjaray\" target=\"_blank\" class=\"top-left-corner\">\n",
    "    <img src=\"https://icons.iconarchive.com/icons/sicons/basic-round-social/32/twitter-icon.png\" width=\"32\" height=\"32\" alt=\"Deeraj Manjaray Twitter Profile\">\n",
    "</a>"
   ]
  },
  {
   "cell_type": "markdown",
   "id": "f63a78ca",
   "metadata": {},
   "source": [
    "*deerajmanjaray1997@gmail.com*"
   ]
  }
 ],
 "metadata": {
  "kernelspec": {
   "display_name": "Python 3 (ipykernel)",
   "language": "python",
   "name": "python3"
  },
  "language_info": {
   "codemirror_mode": {
    "name": "ipython",
    "version": 3
   },
   "file_extension": ".py",
   "mimetype": "text/x-python",
   "name": "python",
   "nbconvert_exporter": "python",
   "pygments_lexer": "ipython3",
   "version": "3.10.12"
  }
 },
 "nbformat": 4,
 "nbformat_minor": 5
}
