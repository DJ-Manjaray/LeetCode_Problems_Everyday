{
 "cells": [
  {
   "cell_type": "markdown",
   "id": "1408b88f",
   "metadata": {},
   "source": [
    "Given an array of strings strs, group the anagrams together. You can return the answer in any order.\n",
    "\n",
    "An Anagram is a word or phrase formed by rearranging the letters of a different word or phrase, typically using all the original letters exactly once.\n",
    "\n",
    " \n",
    "\n",
    "**Example 1:**\n",
    "\n",
    "**Input:** strs = [\"eat\",\"tea\",\"tan\",\"ate\",\"nat\",\"bat\"]\n",
    "\n",
    "**Output:** [[\"bat\"],[\"nat\",\"tan\"],[\"ate\",\"eat\",\"tea\"]]\n",
    "\n",
    "**Example 2:**\n",
    "\n",
    "**Input:** strs = [\"\"]\n",
    "\n",
    "**Output:** [[\"\"]]\n",
    "\n",
    "**Example 3:**\n",
    "\n",
    "**Input:** strs = [\"a\"]\n",
    "\n",
    "**Output:** [[\"a\"]]"
   ]
  },
  {
   "cell_type": "markdown",
   "id": "29f4fa64",
   "metadata": {},
   "source": [
    "# Python Solution"
   ]
  },
  {
   "cell_type": "code",
   "execution_count": 5,
   "id": "34ed0db6",
   "metadata": {},
   "outputs": [],
   "source": [
    "from collections import defaultdict"
   ]
  },
  {
   "cell_type": "code",
   "execution_count": 10,
   "id": "6721d920",
   "metadata": {
    "scrolled": true
   },
   "outputs": [],
   "source": [
    "class Solution:\n",
    "    def groupAnagrams(self, strs: list[str]) -> list[list[str]]:\n",
    "        group = defaultdict(list)\n",
    "        for word in strs:\n",
    "            sw = ''.join(sorted(word))\n",
    "            group[sw].append(word)\n",
    "        return group.values()"
   ]
  },
  {
   "cell_type": "code",
   "execution_count": 8,
   "id": "6c6a8194",
   "metadata": {
    "scrolled": true
   },
   "outputs": [],
   "source": [
    "Anagrams = Solution()"
   ]
  },
  {
   "cell_type": "code",
   "execution_count": 9,
   "id": "9998bb78",
   "metadata": {
    "scrolled": true
   },
   "outputs": [
    {
     "data": {
      "text/plain": [
       "dict_values([['eat', 'tea', 'ate'], ['tan', 'nat'], ['bat']])"
      ]
     },
     "execution_count": 9,
     "metadata": {},
     "output_type": "execute_result"
    }
   ],
   "source": [
    "Anagrams.groupAnagrams([\"eat\",\"tea\",\"tan\",\"ate\",\"nat\",\"bat\"])"
   ]
  },
  {
   "cell_type": "code",
   "execution_count": 12,
   "id": "2579687d",
   "metadata": {
    "scrolled": true
   },
   "outputs": [
    {
     "data": {
      "text/plain": [
       "dict_values([['']])"
      ]
     },
     "execution_count": 12,
     "metadata": {},
     "output_type": "execute_result"
    }
   ],
   "source": [
    "Anagrams.groupAnagrams([\"\"])"
   ]
  },
  {
   "cell_type": "code",
   "execution_count": null,
   "id": "cc356658",
   "metadata": {},
   "outputs": [],
   "source": [
    "from collections import defaultdict\n",
    "strs = [\"eat\",\"tea\",\"tan\",\"ate\",\"nat\",\"bat\"]\n",
    "d = defaultdict(list)\n",
    "# d\n",
    "for s in strs:\n",
    "    print(s)\n",
    "    k = ''.join(sorted(s))\n",
    "    print(k,\"55\")\n",
    "    d[k].append(s)\n",
    "    print(d,\"=======\")\n",
    "print(list(d.values()), \"***\")"
   ]
  },
  {
   "cell_type": "code",
   "execution_count": 13,
   "id": "9dbc6276",
   "metadata": {},
   "outputs": [],
   "source": [
    "s = [('yellow', 1), ('blue', 2), ('yellow', 3), ('blue', 4), ('red', 1)]\n",
    "d = defaultdict(list)"
   ]
  },
  {
   "cell_type": "code",
   "execution_count": 14,
   "id": "2cb32061",
   "metadata": {
    "scrolled": true
   },
   "outputs": [
    {
     "data": {
      "text/plain": [
       "defaultdict(list, {})"
      ]
     },
     "execution_count": 14,
     "metadata": {},
     "output_type": "execute_result"
    }
   ],
   "source": [
    "d"
   ]
  },
  {
   "cell_type": "code",
   "execution_count": 24,
   "id": "38468057",
   "metadata": {},
   "outputs": [
    {
     "name": "stdout",
     "output_type": "stream",
     "text": [
      "eat <--word defaultdict(<class 'list'>, {}) <--group\n",
      "aet Join defaultdict(<class 'list'>, {}) <--group\n",
      "=-=-=-=-=-=-=-=-=-=-=-=-=\n",
      "defaultdict(<class 'list'>, {'aet': ['eat']}) <--group\n",
      "*************************\n",
      "tea <--word defaultdict(<class 'list'>, {'aet': ['eat']}) <--group\n",
      "aet Join defaultdict(<class 'list'>, {'aet': ['eat']}) <--group\n",
      "=-=-=-=-=-=-=-=-=-=-=-=-=\n",
      "defaultdict(<class 'list'>, {'aet': ['eat', 'tea']}) <--group\n",
      "*************************\n",
      "tan <--word defaultdict(<class 'list'>, {'aet': ['eat', 'tea']}) <--group\n",
      "ant Join defaultdict(<class 'list'>, {'aet': ['eat', 'tea']}) <--group\n",
      "=-=-=-=-=-=-=-=-=-=-=-=-=\n",
      "defaultdict(<class 'list'>, {'aet': ['eat', 'tea'], 'ant': ['tan']}) <--group\n",
      "*************************\n",
      "ate <--word defaultdict(<class 'list'>, {'aet': ['eat', 'tea'], 'ant': ['tan']}) <--group\n",
      "aet Join defaultdict(<class 'list'>, {'aet': ['eat', 'tea'], 'ant': ['tan']}) <--group\n",
      "=-=-=-=-=-=-=-=-=-=-=-=-=\n",
      "defaultdict(<class 'list'>, {'aet': ['eat', 'tea', 'ate'], 'ant': ['tan']}) <--group\n",
      "*************************\n",
      "nat <--word defaultdict(<class 'list'>, {'aet': ['eat', 'tea', 'ate'], 'ant': ['tan']}) <--group\n",
      "ant Join defaultdict(<class 'list'>, {'aet': ['eat', 'tea', 'ate'], 'ant': ['tan']}) <--group\n",
      "=-=-=-=-=-=-=-=-=-=-=-=-=\n",
      "defaultdict(<class 'list'>, {'aet': ['eat', 'tea', 'ate'], 'ant': ['tan', 'nat']}) <--group\n",
      "*************************\n",
      "bat <--word defaultdict(<class 'list'>, {'aet': ['eat', 'tea', 'ate'], 'ant': ['tan', 'nat']}) <--group\n",
      "abt Join defaultdict(<class 'list'>, {'aet': ['eat', 'tea', 'ate'], 'ant': ['tan', 'nat']}) <--group\n",
      "=-=-=-=-=-=-=-=-=-=-=-=-=\n",
      "defaultdict(<class 'list'>, {'aet': ['eat', 'tea', 'ate'], 'ant': ['tan', 'nat'], 'abt': ['bat']}) <--group\n",
      "*************************\n"
     ]
    }
   ],
   "source": [
    "strs = [\"eat\",\"tea\",\"tan\",\"ate\",\"nat\",\"bat\"]\n",
    "group = defaultdict(list)\n",
    "for word in strs:\n",
    "    print(word, \"<--word\", group,\"<--group\",)\n",
    "    sw = ''.join(sorted(word))\n",
    "    print(sw, \"Join\", group,\"<--group\",)\n",
    "    group[sw].append(word)\n",
    "    print(\"=-=-=-=-=-=-=-=-=-=-=-=-=\")\n",
    "    print(group,\"<--group\")\n",
    "    print(\"*************************\")\n",
    "    \n",
    "    "
   ]
  }
 ],
 "metadata": {
  "kernelspec": {
   "display_name": "Python 3 (ipykernel)",
   "language": "python",
   "name": "python3"
  },
  "language_info": {
   "codemirror_mode": {
    "name": "ipython",
    "version": 3
   },
   "file_extension": ".py",
   "mimetype": "text/x-python",
   "name": "python",
   "nbconvert_exporter": "python",
   "pygments_lexer": "ipython3",
   "version": "3.10.12"
  }
 },
 "nbformat": 4,
 "nbformat_minor": 5
}
