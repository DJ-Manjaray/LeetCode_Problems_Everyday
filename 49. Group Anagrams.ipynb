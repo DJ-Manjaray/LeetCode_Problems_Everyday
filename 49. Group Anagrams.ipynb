{
 "cells": [
  {
   "cell_type": "markdown",
   "id": "1408b88f",
   "metadata": {},
   "source": [
    "Given an array of strings strs, group the anagrams together. You can return the answer in any order.\n",
    "\n",
    "An Anagram is a word or phrase formed by rearranging the letters of a different word or phrase, typically using all the original letters exactly once.\n",
    "\n",
    " \n",
    "\n",
    "**Example 1:**\n",
    "\n",
    "**Input:** strs = [\"eat\",\"tea\",\"tan\",\"ate\",\"nat\",\"bat\"]\n",
    "**Output:** [[\"bat\"],[\"nat\",\"tan\"],[\"ate\",\"eat\",\"tea\"]]\n",
    "\n",
    "**Example 2:**\n",
    "\n",
    "**Input:** strs = [\"\"]\n",
    "**Output:** [[\"\"]]\n",
    "\n",
    "**Example 3:**\n",
    "\n",
    "**Input:** strs = [\"a\"]\n",
    "**Output:** [[\"a\"]]"
   ]
  },
  {
   "cell_type": "markdown",
   "id": "54e97e38",
   "metadata": {},
   "source": [
    "<!-- Input: ['cat', 'dog', 'god']\n",
    "Output: [{'cat'}, {'dog', 'god'}] -->"
   ]
  },
  {
   "cell_type": "code",
   "execution_count": 1,
   "id": "6721d920",
   "metadata": {
    "scrolled": true
   },
   "outputs": [
    {
     "ename": "KeyError",
     "evalue": "'missing_key'",
     "output_type": "error",
     "traceback": [
      "\u001b[0;31m---------------------------------------------------------------------------\u001b[0m",
      "\u001b[0;31mKeyError\u001b[0m                                  Traceback (most recent call last)",
      "Cell \u001b[0;32mIn [1], line 2\u001b[0m\n\u001b[1;32m      1\u001b[0m a_dict \u001b[38;5;241m=\u001b[39m {}\n\u001b[0;32m----> 2\u001b[0m \u001b[43ma_dict\u001b[49m\u001b[43m[\u001b[49m\u001b[38;5;124;43m'\u001b[39;49m\u001b[38;5;124;43mmissing_key\u001b[39;49m\u001b[38;5;124;43m'\u001b[39;49m\u001b[43m]\u001b[49m\n",
      "\u001b[0;31mKeyError\u001b[0m: 'missing_key'"
     ]
    }
   ],
   "source": [
    "a_dict = {}\n",
    "a_dict['missing_key']"
   ]
  },
  {
   "cell_type": "code",
   "execution_count": 3,
   "id": "6c6a8194",
   "metadata": {
    "scrolled": true
   },
   "outputs": [
    {
     "data": {
      "text/plain": [
       "'default value'"
      ]
     },
     "execution_count": 3,
     "metadata": {},
     "output_type": "execute_result"
    }
   ],
   "source": [
    "a_dict.setdefault('missing_key', 'default value')"
   ]
  },
  {
   "cell_type": "code",
   "execution_count": 15,
   "id": "cc356658",
   "metadata": {},
   "outputs": [
    {
     "name": "stdout",
     "output_type": "stream",
     "text": [
      "eat\n",
      "aet 55\n",
      "defaultdict(<class 'list'>, {'aet': ['eat']}) =======\n",
      "tea\n",
      "aet 55\n",
      "defaultdict(<class 'list'>, {'aet': ['eat', 'tea']}) =======\n",
      "tan\n",
      "ant 55\n",
      "defaultdict(<class 'list'>, {'aet': ['eat', 'tea'], 'ant': ['tan']}) =======\n",
      "ate\n",
      "aet 55\n",
      "defaultdict(<class 'list'>, {'aet': ['eat', 'tea', 'ate'], 'ant': ['tan']}) =======\n",
      "nat\n",
      "ant 55\n",
      "defaultdict(<class 'list'>, {'aet': ['eat', 'tea', 'ate'], 'ant': ['tan', 'nat']}) =======\n",
      "bat\n",
      "abt 55\n",
      "defaultdict(<class 'list'>, {'aet': ['eat', 'tea', 'ate'], 'ant': ['tan', 'nat'], 'abt': ['bat']}) =======\n",
      "[['eat', 'tea', 'ate'], ['tan', 'nat'], ['bat']] ***\n"
     ]
    }
   ],
   "source": [
    "from collections import defaultdict\n",
    "strs = [\"eat\",\"tea\",\"tan\",\"ate\",\"nat\",\"bat\"]\n",
    "d = defaultdict(list)\n",
    "# d\n",
    "for s in strs:\n",
    "    print(s)\n",
    "    k = ''.join(sorted(s))\n",
    "    print(k,\"55\")\n",
    "    d[k].append(s)\n",
    "    print(d,\"=======\")\n",
    "print(list(d.values()), \"***\")"
   ]
  }
 ],
 "metadata": {
  "kernelspec": {
   "display_name": "Python 3 (ipykernel)",
   "language": "python",
   "name": "python3"
  },
  "language_info": {
   "codemirror_mode": {
    "name": "ipython",
    "version": 3
   },
   "file_extension": ".py",
   "mimetype": "text/x-python",
   "name": "python",
   "nbconvert_exporter": "python",
   "pygments_lexer": "ipython3",
   "version": "3.10.12"
  }
 },
 "nbformat": 4,
 "nbformat_minor": 5
}
