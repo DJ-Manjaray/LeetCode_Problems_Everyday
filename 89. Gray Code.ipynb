{
 "cells": [
  {
   "cell_type": "markdown",
   "id": "7711a945",
   "metadata": {},
   "source": [
    "*deerajmanjaray1997@gmail.com*"
   ]
  },
  {
   "cell_type": "markdown",
   "id": "f657d93d",
   "metadata": {},
   "source": [
    "An n-bit gray code sequence is a sequence of $2^n$ integers where:\n",
    "\n",
    "Every integer is in the inclusive range [0, $2^n$ - 1],\n",
    "- The first integer is $0$,\n",
    "- An integer appears no more than once in the sequence,\n",
    "- The binary representation of every pair of adjacent integers differs by exactly one bit, and\n",
    "- The binary representation of the first and last integers differs by exactly one bit.\n",
    "\n",
    "Given an integer $n$, return any valid n-bit gray code sequence."
   ]
  },
  {
   "cell_type": "markdown",
   "id": "483a0628",
   "metadata": {},
   "source": [
    "**Example 1:**\n",
    "\n",
    "**Input:** n = 2\n",
    "\n",
    "**Output:** [0,1,3,2]\n",
    "\n",
    "**Explanation:**\n",
    "The binary representation of [0,1,3,2] is [00,01,11,10].\n",
    "- 00 and 01 differ by one bit\n",
    "- 01 and 11 differ by one bit\n",
    "- 11 and 10 differ by one bit\n",
    "- 10 and 00 differ by one bit\n",
    "[0,2,3,1] is also a valid gray code sequence, whose binary representation is [00,10,11,01].\n",
    "- 00 and 10 differ by one bit\n",
    "- 10 and 11 differ by one bit\n",
    "- 11 and 01 differ by one bit\n",
    "- 01 and 00 differ by one bit"
   ]
  },
  {
   "cell_type": "markdown",
   "id": "345d51ca",
   "metadata": {},
   "source": [
    "**Example 2:**\n",
    "\n",
    "**Input:** n = 1\n",
    "\n",
    "**Output:** [0,1]"
   ]
  },
  {
   "cell_type": "markdown",
   "id": "29f4fa64",
   "metadata": {},
   "source": [
    "# Python Solution"
   ]
  },
  {
   "cell_type": "code",
   "execution_count": 7,
   "id": "bc749fc8",
   "metadata": {},
   "outputs": [],
   "source": [
    "class Solution:\n",
    "    def grayCode(self, n: int) -> list[int]:\n",
    "        ans = [0]\n",
    "        for i in range(n):\n",
    "            for j in reversed(range(len(ans))):\n",
    "                ans.append(ans[j] | 1 << i)\n",
    "\n",
    "        return ans"
   ]
  },
  {
   "cell_type": "code",
   "execution_count": 26,
   "id": "ef4701e7",
   "metadata": {},
   "outputs": [],
   "source": [
    "def grayCode(n: int) -> list[int]:\n",
    "    ans = [0]\n",
    "    for i in range(n):\n",
    "        print(i, len(ans), \"******\")\n",
    "        for j in reversed(range(len(ans))):\n",
    "            print(j, ans[j] , 1 << i,\"----\")\n",
    "        ans.append(ans[j] | 1 << i)\n",
    "        print(ans,\"____________\")\n",
    "\n",
    "    return ans"
   ]
  },
  {
   "cell_type": "code",
   "execution_count": 27,
   "id": "b401b9be",
   "metadata": {},
   "outputs": [
    {
     "name": "stdout",
     "output_type": "stream",
     "text": [
      "0 1 ******\n",
      "0 0 1 ----\n",
      "[0, 1] ____________\n",
      "1 2 ******\n",
      "1 1 2 ----\n",
      "0 0 2 ----\n",
      "[0, 1, 2] ____________\n",
      "2 3 ******\n",
      "2 2 4 ----\n",
      "1 1 4 ----\n",
      "0 0 4 ----\n",
      "[0, 1, 2, 4] ____________\n",
      "3 4 ******\n",
      "3 4 8 ----\n",
      "2 2 8 ----\n",
      "1 1 8 ----\n",
      "0 0 8 ----\n",
      "[0, 1, 2, 4, 8] ____________\n",
      "4 5 ******\n",
      "4 8 16 ----\n",
      "3 4 16 ----\n",
      "2 2 16 ----\n",
      "1 1 16 ----\n",
      "0 0 16 ----\n",
      "[0, 1, 2, 4, 8, 16] ____________\n"
     ]
    },
    {
     "data": {
      "text/plain": [
       "[0, 1, 2, 4, 8, 16]"
      ]
     },
     "execution_count": 27,
     "metadata": {},
     "output_type": "execute_result"
    }
   ],
   "source": [
    "grayCode(5)"
   ]
  },
  {
   "cell_type": "markdown",
   "id": "d989b188",
   "metadata": {},
   "source": [
    "<a href=\"https://github.com/DJ-Manjaray\" target=\"_blank\" class=\"top-left-corner\">\n",
    "  <img src=\"https://icons.iconarchive.com/icons/simpleicons-team/simple/32/github-icon.png\" width=\"32\" height=\"32\" alt=\"Deeraj Manjaray Github Profile\">\n",
    "</a>"
   ]
  },
  {
   "cell_type": "markdown",
   "id": "30dad0bf",
   "metadata": {},
   "source": [
    "<a href=\"https://www.linkedin.com/in/deeraj-manjaray/\" target=\"_blank\" class=\"top-left-corner\">\n",
    "  <img src=\"https://icons.iconarchive.com/icons/limav/flat-gradient-social/32/Linkedin-icon.png\" width=\"32\" height=\"32\" alt=\"Deeraj Manjaray LinkedIn Profile\">\n",
    "</a>"
   ]
  },
  {
   "cell_type": "markdown",
   "id": "46244b22",
   "metadata": {},
   "source": [
    "<a href=\"https://medium.com/@deeraj-manjaray\" target=\"_blank\" class=\"top-left-corner\">\n",
    "    <img src=\"https://icons.iconarchive.com/icons/simpleicons-team/simple/32/medium-icon.png\" width=\"32\" height=\"32\" alt=\"Deeraj Manjaray Medium Profile\">\n",
    "</a>"
   ]
  },
  {
   "cell_type": "markdown",
   "id": "1119dbf1",
   "metadata": {},
   "source": [
    "<a href=\"https://twitter.com/deerajmanjaray\" target=\"_blank\" class=\"top-left-corner\">\n",
    "    <img src=\"https://icons.iconarchive.com/icons/sicons/basic-round-social/32/twitter-icon.png\" width=\"32\" height=\"32\" alt=\"Deeraj Manjaray Twitter Profile\">\n",
    "</a>"
   ]
  },
  {
   "cell_type": "markdown",
   "id": "f63a78ca",
   "metadata": {},
   "source": [
    "*deerajmanjaray1997@gmail.com*"
   ]
  }
 ],
 "metadata": {
  "kernelspec": {
   "display_name": "Python 3 (ipykernel)",
   "language": "python",
   "name": "python3"
  },
  "language_info": {
   "codemirror_mode": {
    "name": "ipython",
    "version": 3
   },
   "file_extension": ".py",
   "mimetype": "text/x-python",
   "name": "python",
   "nbconvert_exporter": "python",
   "pygments_lexer": "ipython3",
   "version": "3.10.12"
  }
 },
 "nbformat": 4,
 "nbformat_minor": 5
}
