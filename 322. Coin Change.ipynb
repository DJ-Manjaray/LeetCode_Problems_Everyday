{
 "cells": [
  {
   "cell_type": "markdown",
   "id": "7711a945",
   "metadata": {},
   "source": [
    "*deerajmanjaray1997@gmail.com*"
   ]
  },
  {
   "cell_type": "markdown",
   "id": "ac44d08b",
   "metadata": {},
   "source": [
    "### Companies:\n",
    "#### Accenture | Adobe | Amazon | American Express | Apple | Bloomberg | Dell | Expedia Goldman Sachs | Google | IBM | Intel | \n",
    "\n",
    "#### Intuit JPMorgan | Microsoft | Morgan Stanley | Oracle | PayPal | Salesforce | Samsung | Spotify | Uber | Visa | Walmart Global \n",
    "\n",
    "#### Tech | Yahoo | Zillow| Zoho | Zoom | Zomato"
   ]
  },
  {
   "cell_type": "markdown",
   "id": "f657d93d",
   "metadata": {},
   "source": [
    "You are given an integer array **coins** representing coins of different denominations and an integer **amount** representing a total amount of money.\n",
    "\n",
    "Return the fewest number of coins that you need to make up that amount. If that amount of money cannot be made up by any combination of the coins, return **-1**.\n",
    "\n",
    "You may assume that you have an infinite number of each kind of coin."
   ]
  },
  {
   "cell_type": "markdown",
   "id": "7aa66faa",
   "metadata": {},
   "source": [
    "**Example 1:**\n",
    "\n",
    "**Input:** coins = [1,2,5], amount = 11\n",
    "\n",
    "**Output:**  3\n",
    "**Explanation:** 11 = 5 + 5 + 1"
   ]
  },
  {
   "cell_type": "markdown",
   "id": "9b00b6ad",
   "metadata": {},
   "source": [
    "**Example 2:**\n",
    "\n",
    "**Input:** coins = [2], amount = 3\n",
    "\n",
    "**Output:** -1"
   ]
  },
  {
   "cell_type": "markdown",
   "id": "5a48f233",
   "metadata": {},
   "source": [
    "**Example 3:**\n",
    "\n",
    "**Input:** coins = [1], amount = 0\n",
    "\n",
    "**Output:** 0"
   ]
  },
  {
   "cell_type": "markdown",
   "id": "29f4fa64",
   "metadata": {},
   "source": [
    "# Python Solution"
   ]
  },
  {
   "cell_type": "code",
   "execution_count": 11,
   "id": "3147e101-32b3-460d-9eb2-edc2501b0157",
   "metadata": {},
   "outputs": [],
   "source": [
    "from typing import List\n",
    "from math import inf"
   ]
  },
  {
   "cell_type": "code",
   "execution_count": 14,
   "id": "b2f4e340",
   "metadata": {},
   "outputs": [],
   "source": [
    "\n",
    "def coinChange(coins: List[int], amount: int) -> int:\n",
    "    l, m, n = coins, len(coins), amount\n",
    "    print(m, n)\n",
    "    f = [[inf] * (n + 1) for _ in range(m + 1)]\n",
    "    f[0][0]=0\n",
    "    \n",
    "    for idx, con in enumerate(l, 1):\n",
    "        print(idx, con)\n",
    "        for j in range(n+1):\n",
    "            print(j, \"j\")\n",
    "\n",
    "            f[i][j] = [f - 1][j]\n",
    "            if j >=  x:\n",
    "                f[i][j] = min(f[i][j], f[i][j - x] + 1)\n",
    "    return -1 if f[m][n] >= inf else f[m][n]"
   ]
  },
  {
   "cell_type": "code",
   "execution_count": 17,
   "id": "de194f23-64d4-4966-af82-f01bb97d80ec",
   "metadata": {},
   "outputs": [],
   "source": [
    "def coinChange(coins: List[int], amount: int) -> int:\n",
    "    dp = [amount + 1] * (amount + 1)\n",
    "    dp[0]=0\n",
    "    for m in range(1, amount + 1):\n",
    "        for n in coins:\n",
    "            if m - n >= 0:\n",
    "                dp[m] = min(dp[m], 1 + dp[m - n])\n",
    "    return dp[amount] if dp[amount] != amount + 1 else -1\n",
    "            "
   ]
  },
  {
   "cell_type": "code",
   "execution_count": 18,
   "id": "7ffa4cb7",
   "metadata": {},
   "outputs": [
    {
     "data": {
      "text/plain": [
       "3"
      ]
     },
     "execution_count": 18,
     "metadata": {},
     "output_type": "execute_result"
    }
   ],
   "source": [
    "coinChange([1,2,5], 11)"
   ]
  },
  {
   "cell_type": "markdown",
   "id": "d989b188",
   "metadata": {},
   "source": [
    "<a href=\"https://github.com/DJ-Manjaray\" target=\"_blank\" class=\"top-left-corner\">\n",
    "  <img src=\"https://icons.iconarchive.com/icons/simpleicons-team/simple/32/github-icon.png\" width=\"32\" height=\"32\" alt=\"Deeraj Manjaray Github Profile\">\n",
    "</a>"
   ]
  },
  {
   "cell_type": "markdown",
   "id": "30dad0bf",
   "metadata": {},
   "source": [
    "<a href=\"https://www.linkedin.com/in/deeraj-manjaray/\" target=\"_blank\" class=\"top-left-corner\">\n",
    "  <img src=\"https://icons.iconarchive.com/icons/limav/flat-gradient-social/32/Linkedin-icon.png\" width=\"32\" height=\"32\" alt=\"Deeraj Manjaray LinkedIn Profile\">\n",
    "</a>"
   ]
  },
  {
   "cell_type": "markdown",
   "id": "46244b22",
   "metadata": {},
   "source": [
    "<a href=\"https://medium.com/@deeraj-manjaray\" target=\"_blank\" class=\"top-left-corner\">\n",
    "    <img src=\"https://icons.iconarchive.com/icons/simpleicons-team/simple/32/medium-icon.png\" width=\"32\" height=\"32\" alt=\"Deeraj Manjaray Medium Profile\">\n",
    "</a>"
   ]
  },
  {
   "cell_type": "markdown",
   "id": "1119dbf1",
   "metadata": {},
   "source": [
    "<a href=\"https://twitter.com/deerajmanjaray\" target=\"_blank\" class=\"top-left-corner\">\n",
    "    <img src=\"https://icons.iconarchive.com/icons/sicons/basic-round-social/32/twitter-icon.png\" width=\"32\" height=\"32\" alt=\"Deeraj Manjaray Twitter Profile\">\n",
    "</a>"
   ]
  },
  {
   "cell_type": "markdown",
   "id": "f63a78ca",
   "metadata": {},
   "source": [
    "*deerajmanjaray1997@gmail.com*"
   ]
  }
 ],
 "metadata": {
  "kernelspec": {
   "display_name": "Python 3 (ipykernel)",
   "language": "python",
   "name": "python3"
  },
  "language_info": {
   "codemirror_mode": {
    "name": "ipython",
    "version": 3
   },
   "file_extension": ".py",
   "mimetype": "text/x-python",
   "name": "python",
   "nbconvert_exporter": "python",
   "pygments_lexer": "ipython3",
   "version": "3.11.5"
  }
 },
 "nbformat": 4,
 "nbformat_minor": 5
}
