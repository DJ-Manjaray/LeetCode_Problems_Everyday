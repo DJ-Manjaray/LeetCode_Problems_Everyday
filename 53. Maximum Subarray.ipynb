{
 "cells": [
  {
   "cell_type": "markdown",
   "id": "7711a945",
   "metadata": {},
   "source": [
    "*deerajmanjaray1997@gmail.com*"
   ]
  },
  {
   "cell_type": "markdown",
   "id": "ac44d08b",
   "metadata": {},
   "source": [
    "### Companies:\n",
    "####  Amazon | Apple | ByteDance | Bloomberg | Dell | Cruise Automation | Expedia | Docusign | DoorDash | Dropbox | Google\n",
    "\n",
    "#### Karat | LinkedIn | Microsoft | Nvidia | Oracle | PayPal | Qualtrics | SAP | Salesforce | ServiceNow | Shopee | Square | Twitch \n",
    "\n",
    "####  Uber | VMware | eBay | TikTok"
   ]
  },
  {
   "cell_type": "markdown",
   "id": "f657d93d",
   "metadata": {},
   "source": [
    "Given an integer array ```nums```, find the subarray with the largest sum, and return its sum"
   ]
  },
  {
   "cell_type": "markdown",
   "id": "7aa66faa",
   "metadata": {},
   "source": [
    "**Example 1:**\n",
    "\n",
    "**Input:** nums = [-2,1,-3,4,-1,2,1,-5,4]\n",
    "\n",
    "\n",
    "**Output:** 6\n",
    "\n",
    "**Explanation:** The subarray [4,-1,2,1] has the largest sum 6."
   ]
  },
  {
   "cell_type": "markdown",
   "id": "63108bb5",
   "metadata": {},
   "source": [
    "**Example 2:**\n",
    "\n",
    "**Input:** nums = nums = [1]\n",
    "\n",
    "\n",
    "**Output:** 1\n",
    "\n",
    "**Explanation:** The subarray [1] has the largest sum 1."
   ]
  },
  {
   "cell_type": "markdown",
   "id": "29f4fa64",
   "metadata": {},
   "source": [
    "# Python Solution"
   ]
  },
  {
   "cell_type": "code",
   "execution_count": null,
   "id": "60185eeb",
   "metadata": {},
   "outputs": [],
   "source": [
    "class Solution:\n",
    "    def maxSubArray(self, nums: list[int]) -> int:\n",
    "        "
   ]
  },
  {
   "cell_type": "code",
   "execution_count": 22,
   "id": "4771f45b",
   "metadata": {},
   "outputs": [],
   "source": [
    "def numIslands(grid):\n",
    "    m = len(grid)\n",
    "    print(m, \":::\")\n",
    "    n = len(grid[0])\n",
    "    print(n, \"555\")\n",
    "    \n",
    "    def dsf(i,j):\n",
    "        if i < 0 or j < 0 or i == m or j == n:\n",
    "            return None\n",
    "        print(grid[i][j])\n",
    "        if grid[i][j] != '1':\n",
    "            return None\n",
    "        \n",
    "        grid[i][j] = '2'\n",
    "        dsf(i+1, j)\n",
    "        dsf(i-1, j)\n",
    "        dsf(i, j+1)\n",
    "        dsf(i, j-1)\n",
    "    \n",
    "    ans = 0\n",
    "    \n",
    "    for i in range(m):\n",
    "        print(i)\n",
    "        for j in range(n):\n",
    "            print(j)\n",
    "            if grid[i][j] == '1':\n",
    "                dsf(i,j)\n",
    "                ans += 1\n",
    "    print(ans, \":::::::\")\n",
    "    return ans"
   ]
  },
  {
   "cell_type": "code",
   "execution_count": 1,
   "id": "7ffa4cb7",
   "metadata": {
    "scrolled": true
   },
   "outputs": [
    {
     "name": "stdout",
     "output_type": "stream",
     "text": [
      "-2\n",
      "1\n",
      "-3\n",
      "4\n",
      "-1\n",
      "2\n",
      "1\n",
      "-5\n",
      "4\n"
     ]
    }
   ],
   "source": [
    "nums = [-2,1,-3,4,-1,2,1,-5,4]\n",
    "for ints in nums:\n",
    "    print(ints)\n",
    "dp = [0] * len(nums)\n"
   ]
  },
  {
   "cell_type": "code",
   "execution_count": 8,
   "id": "d7c78725",
   "metadata": {},
   "outputs": [
    {
     "name": "stdout",
     "output_type": "stream",
     "text": [
      "1\n",
      "4\n",
      "2\n",
      "1\n",
      "4\n",
      "5 in\n"
     ]
    }
   ],
   "source": [
    "d = sum(1 for number in nums if number < 0)\n",
    "# d\n",
    "sum_dict = {}\n",
    "count = 0\n",
    "for number in nums:\n",
    "    if number > 0:\n",
    "        print(number)\n",
    "        count += 1\n",
    "print(count, \"in\")"
   ]
  },
  {
   "cell_type": "code",
   "execution_count": 12,
   "id": "52cb30ed",
   "metadata": {
    "scrolled": false
   },
   "outputs": [
    {
     "name": "stdout",
     "output_type": "stream",
     "text": [
      "1\n",
      "-3\n",
      "4\n",
      "-1\n",
      "2\n",
      "1\n",
      "-5\n",
      "4\n"
     ]
    }
   ],
   "source": [
    "for num in nums[1:]:\n",
    "    print(num)"
   ]
  },
  {
   "cell_type": "markdown",
   "id": "5e0df514",
   "metadata": {},
   "source": [
    "##### ChatGPT output"
   ]
  },
  {
   "cell_type": "code",
   "execution_count": 9,
   "id": "88a4ba34",
   "metadata": {},
   "outputs": [
    {
     "name": "stdout",
     "output_type": "stream",
     "text": [
      "Maximum subarray sum: 6\n"
     ]
    }
   ],
   "source": [
    "def max_subarray(nums):\n",
    "    if not nums:\n",
    "        return 0\n",
    "\n",
    "    max_sum = current_sum = nums[0]\n",
    "\n",
    "    for num in nums[1:]:\n",
    "        current_sum = max(num, current_sum + num)\n",
    "        max_sum = max(max_sum, current_sum)\n",
    "\n",
    "    return max_sum\n",
    "\n",
    "# Example usage:\n",
    "nums = [-2, 1, -3, 4, -1, 2, 1, -5, 4]\n",
    "result = max_subarray(nums)\n",
    "print(\"Maximum subarray sum:\", result)\n"
   ]
  },
  {
   "cell_type": "code",
   "execution_count": 35,
   "id": "b85b2954",
   "metadata": {
    "scrolled": true
   },
   "outputs": [
    {
     "name": "stdout",
     "output_type": "stream",
     "text": [
      "-2 \\\\ 0\n",
      "1 \\\\ -2\n",
      "-3 \\\\ -1\n",
      "4 \\\\ -4\n",
      "-1 \\\\ 0\n",
      "2 \\\\ -1\n",
      "1 \\\\ 1\n",
      "-5 \\\\ 2\n",
      "4 \\\\ -3\n"
     ]
    }
   ],
   "source": [
    "# d = len(nums)\n",
    "# d\n",
    "\n",
    "# for i in range(len(nums)):\n",
    "#     print(i)\n",
    "\n",
    "nums = [-2, 1, -3, 4, -1, 2, 1, -5, 4]\n",
    "\n",
    "counts = 0\n",
    "\n",
    "for i in range(len(nums)):\n",
    "    print(nums[i], \"\\\\\\\\\", counts)\n",
    "    counts += nums[i]"
   ]
  },
  {
   "cell_type": "code",
   "execution_count": 25,
   "id": "813504e7",
   "metadata": {},
   "outputs": [],
   "source": [
    "class Solution:\n",
    "    def maxSubArray(self, nums):\n",
    "        result = float('-inf')  # The initialization result is negative infinity\n",
    "        count = 0\n",
    "        for i in range(len(nums)):\n",
    "            print(nums[i], \"\\\\\\\\\", count)\n",
    "            count += nums[i]\n",
    "            if count > result:  # Take the cumulative maximum value of the interval (equivalent to continuously determining the end position of the maximum subsequence)\n",
    "                result = count\n",
    "            if count <= 0:  # It is equivalent to resetting the starting position of the maximum subsequence, because when encountering a negative number, the sum must be lowered.\n",
    "                count = 0\n",
    "        return result"
   ]
  },
  {
   "cell_type": "code",
   "execution_count": 26,
   "id": "90e1757c",
   "metadata": {},
   "outputs": [],
   "source": [
    "SubArray = Solution()"
   ]
  },
  {
   "cell_type": "code",
   "execution_count": 27,
   "id": "afafc90b",
   "metadata": {},
   "outputs": [
    {
     "name": "stdout",
     "output_type": "stream",
     "text": [
      "-2 \\\\ 0\n",
      "1 \\\\ 0\n",
      "-3 \\\\ 1\n",
      "4 \\\\ 0\n",
      "-1 \\\\ 4\n",
      "2 \\\\ 3\n",
      "1 \\\\ 5\n",
      "-5 \\\\ 6\n",
      "4 \\\\ 1\n"
     ]
    },
    {
     "data": {
      "text/plain": [
       "6"
      ]
     },
     "execution_count": 27,
     "metadata": {},
     "output_type": "execute_result"
    }
   ],
   "source": [
    "SubArray.maxSubArray([-2, 1, -3, 4, -1, 2, 1, -5, 4])"
   ]
  },
  {
   "cell_type": "markdown",
   "id": "d989b188",
   "metadata": {},
   "source": [
    "<a href=\"https://github.com/DJ-Manjaray\" target=\"_blank\" class=\"top-left-corner\">\n",
    "  <img src=\"https://icons.iconarchive.com/icons/simpleicons-team/simple/32/github-icon.png\" width=\"32\" height=\"32\" alt=\"Deeraj Manjaray Github Profile\">\n",
    "</a>"
   ]
  },
  {
   "cell_type": "markdown",
   "id": "30dad0bf",
   "metadata": {},
   "source": [
    "<a href=\"https://www.linkedin.com/in/deeraj-manjaray/\" target=\"_blank\" class=\"top-left-corner\">\n",
    "  <img src=\"https://icons.iconarchive.com/icons/limav/flat-gradient-social/32/Linkedin-icon.png\" width=\"32\" height=\"32\" alt=\"Deeraj Manjaray LinkedIn Profile\">\n",
    "</a>"
   ]
  },
  {
   "cell_type": "markdown",
   "id": "46244b22",
   "metadata": {},
   "source": [
    "<a href=\"https://medium.com/@deeraj-manjaray\" target=\"_blank\" class=\"top-left-corner\">\n",
    "    <img src=\"https://icons.iconarchive.com/icons/simpleicons-team/simple/32/medium-icon.png\" width=\"32\" height=\"32\" alt=\"Deeraj Manjaray Medium Profile\">\n",
    "</a>"
   ]
  },
  {
   "cell_type": "markdown",
   "id": "1119dbf1",
   "metadata": {},
   "source": [
    "<a href=\"https://twitter.com/deerajmanjaray\" target=\"_blank\" class=\"top-left-corner\">\n",
    "    <img src=\"https://icons.iconarchive.com/icons/sicons/basic-round-social/32/twitter-icon.png\" width=\"32\" height=\"32\" alt=\"Deeraj Manjaray Twitter Profile\">\n",
    "</a>"
   ]
  },
  {
   "cell_type": "markdown",
   "id": "f63a78ca",
   "metadata": {},
   "source": [
    "*deerajmanjaray1997@gmail.com*"
   ]
  }
 ],
 "metadata": {
  "kernelspec": {
   "display_name": "Python 3 (ipykernel)",
   "language": "python",
   "name": "python3"
  },
  "language_info": {
   "codemirror_mode": {
    "name": "ipython",
    "version": 3
   },
   "file_extension": ".py",
   "mimetype": "text/x-python",
   "name": "python",
   "nbconvert_exporter": "python",
   "pygments_lexer": "ipython3",
   "version": "3.10.12"
  }
 },
 "nbformat": 4,
 "nbformat_minor": 5
}
