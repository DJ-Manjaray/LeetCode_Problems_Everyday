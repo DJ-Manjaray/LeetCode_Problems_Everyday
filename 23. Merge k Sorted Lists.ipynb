{
 "cells": [
  {
   "cell_type": "markdown",
   "id": "7711a945",
   "metadata": {},
   "source": [
    "*deerajmanjaray1997@gmail.com*"
   ]
  },
  {
   "cell_type": "markdown",
   "id": "ac44d08b",
   "metadata": {},
   "source": [
    "### Companies:\n",
    "#### Accenture | Adobe | Amazon | American Express | Apple | Bloomberg | Dell | Expedia Goldman Sachs | Google | IBM | Intel | \n",
    "\n",
    "#### Intuit JPMorgan | Microsoft | Morgan Stanley | Oracle | PayPal | Salesforce | Samsung | Spotify | Uber | Visa | Walmart Global \n",
    "\n",
    "#### Tech | Yahoo | Zillow| Zoho | Zoom | Zomato"
   ]
  },
  {
   "cell_type": "markdown",
   "id": "f657d93d",
   "metadata": {},
   "source": [
    "You are given an array of ```k``` linked-lists ```lists```, each linked-list is sorted in ascending order.\n",
    "\n",
    "Merge all the linked-lists into one sorted linked-list and return it."
   ]
  },
  {
   "cell_type": "markdown",
   "id": "7aa66faa",
   "metadata": {},
   "source": [
    "**Example 1:**\n",
    "\n",
    "**Input:** lists = [[1,4,5],[1,3,4],[2,6]]\n",
    "\n",
    "**Output:** [1,1,2,3,4,4,5,6]\n",
    "\n",
    "**Explanation:** The linked-lists are:\n",
    "\n",
    "[\n",
    "  1->4->5,\n",
    "  \n",
    "  1->3->4,\n",
    "  \n",
    "  2->6\n",
    "]\n",
    "\n",
    "merging them into one sorted list:\n",
    "1->1->2->3->4->4->5->6"
   ]
  },
  {
   "cell_type": "markdown",
   "id": "9b00b6ad",
   "metadata": {},
   "source": [
    "**Example 2:**\n",
    "\n",
    "**Input:** lists = []\n",
    "\n",
    "**Output:** []"
   ]
  },
  {
   "cell_type": "markdown",
   "id": "5a48f233",
   "metadata": {},
   "source": [
    "**Example 3:**\n",
    "\n",
    "**Input:** lists = [[]]\n",
    "\n",
    "**Output:** []"
   ]
  },
  {
   "cell_type": "markdown",
   "id": "29f4fa64",
   "metadata": {},
   "source": [
    "# Python Solution"
   ]
  },
  {
   "cell_type": "code",
   "execution_count": null,
   "id": "b2f4e340",
   "metadata": {},
   "outputs": [],
   "source": [
    "# Definition for singly-linked list.\n",
    "class ListNode:\n",
    "    def __init__(self, val=0, next=None):\n",
    "        self.val = val\n",
    "        self.next = next\n",
    "# class Solution:\n",
    "#     def mergeKLists(self, lists: List[Optional[ListNode]]) -> Optional[ListNode]:\n",
    "        "
   ]
  },
  {
   "cell_type": "code",
   "execution_count": 14,
   "id": "9ff9043e",
   "metadata": {},
   "outputs": [],
   "source": [
    "from typing import Optional"
   ]
  },
  {
   "cell_type": "code",
   "execution_count": 2,
   "id": "7ffa4cb7",
   "metadata": {
    "scrolled": true
   },
   "outputs": [
    {
     "data": {
      "text/plain": [
       "['a', 'b', 'c']"
      ]
     },
     "execution_count": 2,
     "metadata": {},
     "output_type": "execute_result"
    }
   ],
   "source": [
    "x = [[\"a\",\"b\"], [\"c\"]]\n",
    "\n",
    "result = sum(x, [])\n",
    "result"
   ]
  },
  {
   "cell_type": "code",
   "execution_count": 13,
   "id": "dec84807",
   "metadata": {},
   "outputs": [
    {
     "data": {
      "text/plain": [
       "[1, 1, 2, 3, 4, 4, 5, 6]"
      ]
     },
     "execution_count": 13,
     "metadata": {},
     "output_type": "execute_result"
    }
   ],
   "source": [
    "def mergeKLists(lists):\n",
    "    result = sum(lists, [])\n",
    "    return sorted(result)\n",
    "\n",
    "a = mergeKLists([[1,4,5],[1,3,4],[2,6]])\n",
    "a"
   ]
  },
  {
   "cell_type": "code",
   "execution_count": 9,
   "id": "217381a4",
   "metadata": {},
   "outputs": [
    {
     "name": "stdout",
     "output_type": "stream",
     "text": [
      "[1, 1, 2, 3, 4, 4, 5, 6]\n"
     ]
    }
   ],
   "source": [
    "lists1 = [[1,4,5],[1,3,4],[2,6]]\n",
    "\n",
    "lists2 = []\n",
    "\n",
    "lists3 = [[]]\n",
    "\n",
    "result = sum(lists1, [])\n",
    "print(sorted(result))"
   ]
  },
  {
   "cell_type": "markdown",
   "id": "d989b188",
   "metadata": {},
   "source": [
    "<a href=\"https://github.com/DJ-Manjaray\" target=\"_blank\" class=\"top-left-corner\">\n",
    "  <img src=\"https://icons.iconarchive.com/icons/simpleicons-team/simple/32/github-icon.png\" width=\"32\" height=\"32\" alt=\"Deeraj Manjaray Github Profile\">\n",
    "</a>"
   ]
  },
  {
   "cell_type": "markdown",
   "id": "30dad0bf",
   "metadata": {},
   "source": [
    "<a href=\"https://www.linkedin.com/in/deeraj-manjaray/\" target=\"_blank\" class=\"top-left-corner\">\n",
    "  <img src=\"https://icons.iconarchive.com/icons/limav/flat-gradient-social/32/Linkedin-icon.png\" width=\"32\" height=\"32\" alt=\"Deeraj Manjaray LinkedIn Profile\">\n",
    "</a>"
   ]
  },
  {
   "cell_type": "markdown",
   "id": "46244b22",
   "metadata": {},
   "source": [
    "<a href=\"https://medium.com/@deeraj-manjaray\" target=\"_blank\" class=\"top-left-corner\">\n",
    "    <img src=\"https://icons.iconarchive.com/icons/simpleicons-team/simple/32/medium-icon.png\" width=\"32\" height=\"32\" alt=\"Deeraj Manjaray Medium Profile\">\n",
    "</a>"
   ]
  },
  {
   "cell_type": "markdown",
   "id": "1119dbf1",
   "metadata": {},
   "source": [
    "<a href=\"https://twitter.com/deerajmanjaray\" target=\"_blank\" class=\"top-left-corner\">\n",
    "    <img src=\"https://icons.iconarchive.com/icons/sicons/basic-round-social/32/twitter-icon.png\" width=\"32\" height=\"32\" alt=\"Deeraj Manjaray Twitter Profile\">\n",
    "</a>"
   ]
  },
  {
   "cell_type": "markdown",
   "id": "f63a78ca",
   "metadata": {},
   "source": [
    "*deerajmanjaray1997@gmail.com*"
   ]
  }
 ],
 "metadata": {
  "kernelspec": {
   "display_name": "Python 3 (ipykernel)",
   "language": "python",
   "name": "python3"
  },
  "language_info": {
   "codemirror_mode": {
    "name": "ipython",
    "version": 3
   },
   "file_extension": ".py",
   "mimetype": "text/x-python",
   "name": "python",
   "nbconvert_exporter": "python",
   "pygments_lexer": "ipython3",
   "version": "3.10.12"
  }
 },
 "nbformat": 4,
 "nbformat_minor": 5
}
