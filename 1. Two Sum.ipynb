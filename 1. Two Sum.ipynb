{
 "cells": [
  {
   "cell_type": "markdown",
   "id": "7711a945",
   "metadata": {},
   "source": [
    "*deerajmanjaray1997@gmail.com*"
   ]
  },
  {
   "cell_type": "markdown",
   "id": "ac44d08b",
   "metadata": {},
   "source": [
    "### Companies:\n",
    "#### Accenture | Adobe | Amazon | American Express | Apple | Bloomberg | Dell | Expedia Goldman Sachs | Google | IBM | Intel | \n",
    "\n",
    "#### Intuit JPMorgan | Microsoft | Morgan Stanley | Oracle | PayPal | Salesforce | Samsung | Spotify | Uber | Visa | Walmart Global \n",
    "\n",
    "#### Tech | Yahoo | Zillow| Zoho | Zoom | Zomato"
   ]
  },
  {
   "cell_type": "markdown",
   "id": "f657d93d",
   "metadata": {},
   "source": [
    "Given an array of integers **nums** and an integer **target**, return indices of the two numbers such that they add up to target.\n",
    "\n",
    "You may assume that each input would have exactly one solution, and you may not use the same element twice.\n",
    "\n",
    "You can return the answer in any order."
   ]
  },
  {
   "cell_type": "markdown",
   "id": "7aa66faa",
   "metadata": {},
   "source": [
    "**Example 1:**\n",
    "\n",
    "**Input:** nums = [2,7,11,15], target = 9\n",
    "\n",
    "**Output:** [0,1]\n",
    "\n",
    "**Explanation:** Because nums[0] + nums[1] == 9, we return [0, 1]."
   ]
  },
  {
   "cell_type": "markdown",
   "id": "9b00b6ad",
   "metadata": {},
   "source": [
    "**Example 2:**\n",
    "\n",
    "**Input:** nums = [3,2,4], target = 6\n",
    "\n",
    "**Output:** [1,2]"
   ]
  },
  {
   "cell_type": "markdown",
   "id": "5a48f233",
   "metadata": {},
   "source": [
    "**Example 3:**\n",
    "\n",
    "**Input:** nums = [3,3], target = 6\n",
    "\n",
    "**Output:** [0,1]"
   ]
  },
  {
   "cell_type": "markdown",
   "id": "29f4fa64",
   "metadata": {},
   "source": [
    "# Python Solution"
   ]
  },
  {
   "cell_type": "code",
   "execution_count": null,
   "id": "b2f4e340",
   "metadata": {},
   "outputs": [],
   "source": [
    "class Solution:\n",
    "    def twoSum(self, nums: List[int], target: int) -> List[int]:\n",
    "        m = {}\n",
    "        for i, n in enumerate(nums):\n",
    "            print(i, n)\n",
    "            y = target - n\n",
    "            if y in m:\n",
    "                return [m[y], i]\n",
    "            m[n] = i"
   ]
  },
  {
   "cell_type": "code",
   "execution_count": 17,
   "id": "dd8d3f12",
   "metadata": {},
   "outputs": [],
   "source": [
    "def twoSum(nums,target):\n",
    "    memory_dict = {}\n",
    "    for m,n in enumerate(nums):\n",
    "#         print(m,n,\"______\")\n",
    "        y = target - n\n",
    "        if y in memory_dict:\n",
    "            return [memory_dict[y], m]\n",
    "        memory_dict[n] = m"
   ]
  },
  {
   "cell_type": "code",
   "execution_count": 18,
   "id": "7ffa4cb7",
   "metadata": {},
   "outputs": [
    {
     "data": {
      "text/plain": [
       "[0, 1]"
      ]
     },
     "execution_count": 18,
     "metadata": {},
     "output_type": "execute_result"
    }
   ],
   "source": [
    "twoSum([2,7,11,15], 9)"
   ]
  },
  {
   "cell_type": "markdown",
   "id": "d989b188",
   "metadata": {},
   "source": [
    "<a href=\"https://github.com/DJ-Manjaray\" target=\"_blank\" class=\"top-left-corner\">\n",
    "  <img src=\"https://icons.iconarchive.com/icons/simpleicons-team/simple/32/github-icon.png\" width=\"32\" height=\"32\" alt=\"Deeraj Manjaray Github Profile\">\n",
    "</a>"
   ]
  },
  {
   "cell_type": "markdown",
   "id": "30dad0bf",
   "metadata": {},
   "source": [
    "<a href=\"https://www.linkedin.com/in/deeraj-manjaray/\" target=\"_blank\" class=\"top-left-corner\">\n",
    "  <img src=\"https://icons.iconarchive.com/icons/limav/flat-gradient-social/32/Linkedin-icon.png\" width=\"32\" height=\"32\" alt=\"Deeraj Manjaray LinkedIn Profile\">\n",
    "</a>"
   ]
  },
  {
   "cell_type": "markdown",
   "id": "46244b22",
   "metadata": {},
   "source": [
    "<a href=\"https://medium.com/@deeraj-manjaray\" target=\"_blank\" class=\"top-left-corner\">\n",
    "    <img src=\"https://icons.iconarchive.com/icons/simpleicons-team/simple/32/medium-icon.png\" width=\"32\" height=\"32\" alt=\"Deeraj Manjaray Medium Profile\">\n",
    "</a>"
   ]
  },
  {
   "cell_type": "markdown",
   "id": "1119dbf1",
   "metadata": {},
   "source": [
    "<a href=\"https://twitter.com/deerajmanjaray\" target=\"_blank\" class=\"top-left-corner\">\n",
    "    <img src=\"https://icons.iconarchive.com/icons/sicons/basic-round-social/32/twitter-icon.png\" width=\"32\" height=\"32\" alt=\"Deeraj Manjaray Twitter Profile\">\n",
    "</a>"
   ]
  },
  {
   "cell_type": "markdown",
   "id": "f63a78ca",
   "metadata": {},
   "source": [
    "*deerajmanjaray1997@gmail.com*"
   ]
  }
 ],
 "metadata": {
  "kernelspec": {
   "display_name": "Python 3 (ipykernel)",
   "language": "python",
   "name": "python3"
  },
  "language_info": {
   "codemirror_mode": {
    "name": "ipython",
    "version": 3
   },
   "file_extension": ".py",
   "mimetype": "text/x-python",
   "name": "python",
   "nbconvert_exporter": "python",
   "pygments_lexer": "ipython3",
   "version": "3.10.12"
  }
 },
 "nbformat": 4,
 "nbformat_minor": 5
}
