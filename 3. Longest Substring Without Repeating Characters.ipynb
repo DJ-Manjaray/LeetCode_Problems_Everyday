{
 "cells": [
  {
   "cell_type": "markdown",
   "id": "7711a945",
   "metadata": {},
   "source": [
    "*deerajmanjaray1997@gmail.com*"
   ]
  },
  {
   "cell_type": "markdown",
   "id": "f657d93d",
   "metadata": {},
   "source": [
    "Given a string ```s```, find the length of the longest substring without repeating characters."
   ]
  },
  {
   "cell_type": "markdown",
   "id": "483a0628",
   "metadata": {},
   "source": [
    "**Example 1:**\n",
    "\n",
    "**Input:** s = \"abcabcbb\"\n",
    "\n",
    "**Output:** 3\n",
    "\n",
    "**Explanation:** \n",
    "The answer is \"abc\", with the length of 3."
   ]
  },
  {
   "cell_type": "markdown",
   "id": "2c5ad19a",
   "metadata": {},
   "source": [
    "**Example 2:**\n",
    "\n",
    "**Input:** s = \"bbbbb\"\n",
    "\n",
    "**Output:** 1\n",
    "\n",
    "**Explanation:** \n",
    "The answer is \"b\", with the length of 1."
   ]
  },
  {
   "cell_type": "markdown",
   "id": "3e4a2883",
   "metadata": {},
   "source": [
    "**Example 3:**\n",
    "\n",
    "**Input:** s = \"pwwkew\"\n",
    "\n",
    "**Output:** 3\n",
    "\n",
    "**Explanation:** \n",
    "The answer is \"wke\", with the length of 3.\n",
    "Notice that the answer must be a substring, \"pwke\" is a subsequence and not a substring."
   ]
  },
  {
   "cell_type": "markdown",
   "id": "29f4fa64",
   "metadata": {},
   "source": [
    "# Python Solution"
   ]
  },
  {
   "cell_type": "code",
   "execution_count": 16,
   "id": "bc749fc8",
   "metadata": {},
   "outputs": [],
   "source": [
    "class Solution:\n",
    "    def lengthOfLongestSubstring(self, s: str) -> int:\n",
    "        sset = set()\n",
    "        i = ans = 0\n",
    "        for no , st in enumerate(s):\n",
    "            print(no,st)\n",
    "            while st in sset:\n",
    "                print(st, \"Iterate of string in each cycle\")\n",
    "                sset.remove(s[i])\n",
    "                i += 1\n",
    "            sset.add(st)\n",
    "            ans = max(ans, no-i+1)\n",
    "        return ans\n",
    "        "
   ]
  },
  {
   "cell_type": "code",
   "execution_count": 17,
   "id": "f5c2f672",
   "metadata": {},
   "outputs": [],
   "source": [
    "Ans = Solution()"
   ]
  },
  {
   "cell_type": "code",
   "execution_count": 18,
   "id": "1c76e94c",
   "metadata": {},
   "outputs": [
    {
     "name": "stdout",
     "output_type": "stream",
     "text": [
      "0 a\n",
      "1 b\n",
      "2 c\n",
      "3 a\n",
      "a Iterate of string in each cycle\n",
      "4 b\n",
      "b Iterate of string in each cycle\n",
      "5 c\n",
      "c Iterate of string in each cycle\n",
      "6 b\n",
      "b Iterate of string in each cycle\n",
      "b Iterate of string in each cycle\n",
      "7 b\n",
      "b Iterate of string in each cycle\n",
      "b Iterate of string in each cycle\n"
     ]
    },
    {
     "data": {
      "text/plain": [
       "3"
      ]
     },
     "execution_count": 18,
     "metadata": {},
     "output_type": "execute_result"
    }
   ],
   "source": [
    "Ans.lengthOfLongestSubstring(\"abcabcbb\")"
   ]
  },
  {
   "cell_type": "code",
   "execution_count": 15,
   "id": "c0693be5",
   "metadata": {},
   "outputs": [
    {
     "data": {
      "text/plain": [
       "{'e', 'k', 'p', 'w'}"
      ]
     },
     "execution_count": 15,
     "metadata": {},
     "output_type": "execute_result"
    }
   ],
   "source": [
    "a = \"abcabcbb\"\n",
    "s = \"pwwkew\"\n",
    "\n",
    "ss = set(s)\n",
    "ss"
   ]
  },
  {
   "cell_type": "code",
   "execution_count": 12,
   "id": "c64d732e",
   "metadata": {},
   "outputs": [
    {
     "name": "stdout",
     "output_type": "stream",
     "text": [
      "Counter({'b': 4, 'a': 2, 'c': 2})\n"
     ]
    }
   ],
   "source": [
    "from collections import Counter\n",
    "# count = Counter()\n",
    "# count\n",
    "\n",
    "print(Counter(a))  "
   ]
  },
  {
   "cell_type": "code",
   "execution_count": 3,
   "id": "af67fdd6",
   "metadata": {},
   "outputs": [
    {
     "name": "stdout",
     "output_type": "stream",
     "text": [
      "0 p\n",
      "1 w\n",
      "2 w\n",
      "3 k\n",
      "4 e\n",
      "5 w\n"
     ]
    }
   ],
   "source": [
    "i = ans = 0\n",
    "for r , c in enumerate(s):\n",
    "    print(r,c)\n",
    "    while c in ss:\n",
    "        ss.remove(s[i])\n",
    "        \n",
    "        \n",
    "    "
   ]
  },
  {
   "cell_type": "code",
   "execution_count": 19,
   "id": "9595cf76",
   "metadata": {},
   "outputs": [],
   "source": [
    "# Leetcode Solution\n",
    "\n",
    "class Solution:\n",
    "    def lengthOfLongestSubstring(self, s: str) -> int:\n",
    "        maxLength = 0\n",
    "        charPos = {}\n",
    "        l, r = 0, 0\n",
    "        while r<len(s):\n",
    "            if s[r] in charPos and charPos[s[r]] >= l:\n",
    "                l = charPos[s[r]] + 1\n",
    "            maxLength = max(maxLength, r-l+1)\n",
    "            charPos[s[r]] = r\n",
    "            r+=1\n",
    "        return maxLength"
   ]
  },
  {
   "cell_type": "markdown",
   "id": "d989b188",
   "metadata": {},
   "source": [
    "<a href=\"https://github.com/DJ-Manjaray\" target=\"_blank\" class=\"top-left-corner\">\n",
    "  <img src=\"https://icons.iconarchive.com/icons/simpleicons-team/simple/32/github-icon.png\" width=\"32\" height=\"32\" alt=\"Deeraj Manjaray Github Profile\">\n",
    "</a>"
   ]
  },
  {
   "cell_type": "markdown",
   "id": "30dad0bf",
   "metadata": {},
   "source": [
    "<a href=\"https://www.linkedin.com/in/deeraj-manjaray/\" target=\"_blank\" class=\"top-left-corner\">\n",
    "  <img src=\"https://icons.iconarchive.com/icons/limav/flat-gradient-social/32/Linkedin-icon.png\" width=\"32\" height=\"32\" alt=\"Deeraj Manjaray LinkedIn Profile\">\n",
    "</a>"
   ]
  },
  {
   "cell_type": "markdown",
   "id": "46244b22",
   "metadata": {},
   "source": [
    "<a href=\"https://medium.com/@deeraj-manjaray\" target=\"_blank\" class=\"top-left-corner\">\n",
    "    <img src=\"https://icons.iconarchive.com/icons/simpleicons-team/simple/32/medium-icon.png\" width=\"32\" height=\"32\" alt=\"Deeraj Manjaray Medium Profile\">\n",
    "</a>"
   ]
  },
  {
   "cell_type": "markdown",
   "id": "1119dbf1",
   "metadata": {},
   "source": [
    "<a href=\"https://twitter.com/deerajmanjaray\" target=\"_blank\" class=\"top-left-corner\">\n",
    "    <img src=\"https://icons.iconarchive.com/icons/sicons/basic-round-social/32/twitter-icon.png\" width=\"32\" height=\"32\" alt=\"Deeraj Manjaray Twitter Profile\">\n",
    "</a>"
   ]
  },
  {
   "cell_type": "markdown",
   "id": "f63a78ca",
   "metadata": {},
   "source": [
    "*deerajmanjaray1997@gmail.com*"
   ]
  }
 ],
 "metadata": {
  "kernelspec": {
   "display_name": "Python 3 (ipykernel)",
   "language": "python",
   "name": "python3"
  },
  "language_info": {
   "codemirror_mode": {
    "name": "ipython",
    "version": 3
   },
   "file_extension": ".py",
   "mimetype": "text/x-python",
   "name": "python",
   "nbconvert_exporter": "python",
   "pygments_lexer": "ipython3",
   "version": "3.10.12"
  }
 },
 "nbformat": 4,
 "nbformat_minor": 5
}
