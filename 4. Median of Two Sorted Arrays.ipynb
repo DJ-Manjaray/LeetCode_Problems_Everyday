{
 "cells": [
  {
   "cell_type": "markdown",
   "id": "7711a945",
   "metadata": {},
   "source": [
    "*deerajmanjaray1997@gmail.com*"
   ]
  },
  {
   "cell_type": "markdown",
   "id": "ac44d08b",
   "metadata": {},
   "source": [
    "### Companies:\n",
    "#### Accenture | Adobe | Amazon | American Express | Apple | Bloomberg | Dell | Expedia Goldman Sachs | Google | IBM | Intel | \n",
    "\n",
    "#### Intuit JPMorgan | Microsoft | Morgan Stanley | Oracle | PayPal | Salesforce | Samsung | Spotify | Uber | Visa | Walmart Global \n",
    "\n",
    "#### Tech | Yahoo | Zillow| Zoho | Zoom | Zomato"
   ]
  },
  {
   "cell_type": "markdown",
   "id": "f657d93d",
   "metadata": {},
   "source": [
    "Given two sorted arrays ```nums1``` and ```nums2``` of size ```m``` and ```n``` respectively, return the median of the two sorted arrays.\n",
    "\n",
    "The overall run time complexity should be ```O(log (m+n))```."
   ]
  },
  {
   "cell_type": "markdown",
   "id": "7aa66faa",
   "metadata": {},
   "source": [
    "**Example 1:**\n",
    "\n",
    "**Input:** nums1 = [1,3], nums2 = [2]\n",
    "\n",
    "**Output:** 2.00000\n",
    "\n",
    "**Explanation:** merged array = [1,2,3] and median is 2."
   ]
  },
  {
   "cell_type": "markdown",
   "id": "9b00b6ad",
   "metadata": {},
   "source": [
    "**Example 2:**\n",
    "\n",
    "**Input:** nums1 = [1,2], nums2 = [3,4]\n",
    "\n",
    "**Output:** 2.50000\n",
    "\n",
    "**Explanation:** merged array = [1,2,3,4] and median is (2 + 3) / 2 = 2.5."
   ]
  },
  {
   "cell_type": "markdown",
   "id": "29f4fa64",
   "metadata": {},
   "source": [
    "# Python Solution"
   ]
  },
  {
   "cell_type": "code",
   "execution_count": null,
   "id": "b2f4e340",
   "metadata": {},
   "outputs": [],
   "source": [
    "class Solution:\n",
    "    def findMedianSortedArrays(self, nums1: List[int], nums2: List[int]) -> float:\n",
    "        "
   ]
  },
  {
   "cell_type": "code",
   "execution_count": 14,
   "id": "6d401016",
   "metadata": {},
   "outputs": [
    {
     "ename": "SyntaxError",
     "evalue": "invalid syntax. Maybe you meant '==' or ':=' instead of '='? (3715761052.py, line 1)",
     "output_type": "error",
     "traceback": [
      "\u001b[0;36m  Cell \u001b[0;32mIn [14], line 1\u001b[0;36m\u001b[0m\n\u001b[0;31m    nums1 = [1,3], nums2 = [2]\u001b[0m\n\u001b[0m    ^\u001b[0m\n\u001b[0;31mSyntaxError\u001b[0m\u001b[0;31m:\u001b[0m invalid syntax. Maybe you meant '==' or ':=' instead of '='?\n"
     ]
    }
   ],
   "source": [
    "nums1 = [1,3], nums2 = [2]\n",
    "\n",
    "def findMedian(num):\n",
    "    return sum(num)//len(num)\n",
    "\n",
    "def findMedianSortedArrays(nums1: list[int], nums2: list[int]) -> float:\n",
    "#     def findMedian(num):\n",
    "#         return sum(num)//len(num)\n",
    "    \n",
    "    a = findMedian([1,3])\n",
    "    b = findMedian([2])\n",
    "    \n",
    "    return (a+b)/2\n",
    "    "
   ]
  },
  {
   "cell_type": "code",
   "execution_count": 18,
   "id": "df854b73",
   "metadata": {
    "scrolled": true
   },
   "outputs": [
    {
     "ename": "TypeError",
     "evalue": "median.findMedian() takes 1 positional argument but 2 were given",
     "output_type": "error",
     "traceback": [
      "\u001b[0;31m---------------------------------------------------------------------------\u001b[0m",
      "\u001b[0;31mTypeError\u001b[0m                                 Traceback (most recent call last)",
      "Cell \u001b[0;32mIn [18], line 12\u001b[0m\n\u001b[1;32m      9\u001b[0m mid1 \u001b[38;5;241m=\u001b[39m median()\n\u001b[1;32m     10\u001b[0m mid2 \u001b[38;5;241m=\u001b[39m median()\n\u001b[0;32m---> 12\u001b[0m ans1 \u001b[38;5;241m=\u001b[39m \u001b[43mmid1\u001b[49m\u001b[38;5;241;43m.\u001b[39;49m\u001b[43mfindMedian\u001b[49m\u001b[43m(\u001b[49m\u001b[43m[\u001b[49m\u001b[43mnums1\u001b[49m\u001b[43m]\u001b[49m\u001b[43m)\u001b[49m\n\u001b[1;32m     13\u001b[0m ans2 \u001b[38;5;241m=\u001b[39m mid2\u001b[38;5;241m.\u001b[39mfindMedian([nums2])\n\u001b[1;32m     15\u001b[0m result \u001b[38;5;241m=\u001b[39m ans1 \u001b[38;5;241m+\u001b[39m ans2\n",
      "\u001b[0;31mTypeError\u001b[0m: median.findMedian() takes 1 positional argument but 2 were given"
     ]
    }
   ],
   "source": [
    "nums1 = [1,3]\n",
    "nums2 = [2]\n",
    "# print(len(nums1))\n",
    "\n",
    "class median:\n",
    "    def findMedian(num):\n",
    "        return sum(num) //len(num)\n",
    "\n",
    "mid1 = median()\n",
    "mid2 = median()\n",
    "\n",
    "ans1 = mid1.findMedian([nums1])\n",
    "ans2 = mid2.findMedian([nums2])\n",
    "\n",
    "result = ans1 + ans2\n",
    "\n",
    "# result = findMedian(nums1)\n",
    "print(result)"
   ]
  },
  {
   "cell_type": "code",
   "execution_count": 25,
   "id": "80eabc8b",
   "metadata": {},
   "outputs": [
    {
     "name": "stdout",
     "output_type": "stream",
     "text": [
      "2.5\n"
     ]
    }
   ],
   "source": [
    "nums1 = [1,2]\n",
    "nums2 = [3,4]\n",
    "\n",
    "class Median:\n",
    "    def findMedian(self, num):\n",
    "        return sum(num) / len(num)\n",
    "\n",
    "# mid1 = Median()\n",
    "# mid2 = Median()\n",
    "\n",
    "mid = Median()\n",
    "\n",
    "ans1 = mid.findMedian(nums1)\n",
    "ans2 = mid.findMedian(nums2)\n",
    "\n",
    "result = (float(ans1) + float(ans2))/2\n",
    "print(result)\n"
   ]
  },
  {
   "cell_type": "code",
   "execution_count": null,
   "id": "0e287f4d",
   "metadata": {},
   "outputs": [],
   "source": [
    "class Solution:\n",
    "    def findMedianSortedArrays(self, nums1: List[int], nums2: List[int]) -> float:\n",
    "        # Helper function to find kth element in the merged array of nums1 and nums2\n",
    "        def findKthElement(i: int, j: int, k: int) -> int:\n",
    "            # If all elements of nums1 are considered, return kth element of nums2\n",
    "            if i >= m:\n",
    "                return nums2[j + k - 1]\n",
    "            # If all elements of nums2 are considered, return kth element of nums1\n",
    "            if j >= n:\n",
    "                return nums1[i + k - 1]\n",
    "            # If k is reduced to 1, return the minimum of the current elements in nums1 and nums2\n",
    "            if k == 1:\n",
    "                return min(nums1[i], nums2[j])\n",
    "            \n",
    "            # Divide k into two parts\n",
    "            p = k // 2\n",
    "            # Get the elements at position i+p-1 in nums1 and j+p-1 in nums2\n",
    "            # If any of them goes out of bounds, assign infinity\n",
    "            x = nums1[i + p - 1] if i + p - 1 < m else float('inf')\n",
    "            y = nums2[j + p - 1] if j + p - 1 < n else float('inf')\n",
    "            \n",
    "            # Recursively search in the appropriate half based on the comparison of x and y\n",
    "            return findKthElement(i + p, j, k - p) if x < y else findKthElement(i, j + p, k - p)\n",
    "\n",
    "        # Get the lengths of nums1 and nums2\n",
    "        m, n = len(nums1), len(nums2)\n",
    "        \n",
    "        # Find the median for an odd combined length\n",
    "        a = findKthElement(0, 0, (m + n + 1) // 2)\n",
    "        # Find the median for an even combined length\n",
    "        b = findKthElement(0, 0, (m + n + 2) // 2)\n",
    "        \n",
    "        # Calculate and return the median\n",
    "        return (a + b) / 2\n"
   ]
  },
  {
   "cell_type": "markdown",
   "id": "d989b188",
   "metadata": {},
   "source": [
    "<a href=\"https://github.com/DJ-Manjaray\" target=\"_blank\" class=\"top-left-corner\">\n",
    "  <img src=\"https://icons.iconarchive.com/icons/simpleicons-team/simple/32/github-icon.png\" width=\"32\" height=\"32\" alt=\"Deeraj Manjaray Github Profile\">\n",
    "</a>"
   ]
  },
  {
   "cell_type": "markdown",
   "id": "30dad0bf",
   "metadata": {},
   "source": [
    "<a href=\"https://www.linkedin.com/in/deeraj-manjaray/\" target=\"_blank\" class=\"top-left-corner\">\n",
    "  <img src=\"https://icons.iconarchive.com/icons/limav/flat-gradient-social/32/Linkedin-icon.png\" width=\"32\" height=\"32\" alt=\"Deeraj Manjaray LinkedIn Profile\">\n",
    "</a>"
   ]
  },
  {
   "cell_type": "markdown",
   "id": "46244b22",
   "metadata": {},
   "source": [
    "<a href=\"https://medium.com/@deeraj-manjaray\" target=\"_blank\" class=\"top-left-corner\">\n",
    "    <img src=\"https://icons.iconarchive.com/icons/simpleicons-team/simple/32/medium-icon.png\" width=\"32\" height=\"32\" alt=\"Deeraj Manjaray Medium Profile\">\n",
    "</a>"
   ]
  },
  {
   "cell_type": "markdown",
   "id": "1119dbf1",
   "metadata": {},
   "source": [
    "<a href=\"https://twitter.com/deerajmanjaray\" target=\"_blank\" class=\"top-left-corner\">\n",
    "    <img src=\"https://icons.iconarchive.com/icons/sicons/basic-round-social/32/twitter-icon.png\" width=\"32\" height=\"32\" alt=\"Deeraj Manjaray Twitter Profile\">\n",
    "</a>"
   ]
  },
  {
   "cell_type": "markdown",
   "id": "f63a78ca",
   "metadata": {},
   "source": [
    "*deerajmanjaray1997@gmail.com*"
   ]
  }
 ],
 "metadata": {
  "kernelspec": {
   "display_name": "Python 3 (ipykernel)",
   "language": "python",
   "name": "python3"
  },
  "language_info": {
   "codemirror_mode": {
    "name": "ipython",
    "version": 3
   },
   "file_extension": ".py",
   "mimetype": "text/x-python",
   "name": "python",
   "nbconvert_exporter": "python",
   "pygments_lexer": "ipython3",
   "version": "3.10.12"
  }
 },
 "nbformat": 4,
 "nbformat_minor": 5
}
