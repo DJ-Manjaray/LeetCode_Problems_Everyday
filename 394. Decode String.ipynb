{
 "cells": [
  {
   "cell_type": "markdown",
   "id": "7711a945",
   "metadata": {},
   "source": [
    "*deerajmanjaray1997@gmail.com*"
   ]
  },
  {
   "cell_type": "markdown",
   "id": "ac44d08b",
   "metadata": {},
   "source": [
    "### Companies:\n",
    "#### Accenture | Adobe | Amazon | American Express | Apple | Bloomberg | Dell | Expedia Goldman Sachs | Google | IBM | Intel | \n",
    "\n",
    "#### Intuit JPMorgan | Microsoft | Morgan Stanley | Oracle | PayPal | Salesforce | Samsung | Spotify | Uber | Visa | Walmart Global \n",
    "\n",
    "#### Tech | Yahoo | Zillow| Zoho | Zoom | Zomato"
   ]
  },
  {
   "cell_type": "markdown",
   "id": "f657d93d",
   "metadata": {},
   "source": [
    "Given an encoded string, return its decoded string.\n",
    "\n",
    "The encoding rule is: ```k[encoded_string]```, where the ```encoded_string``` inside the square brackets is being repeated exactly ```k``` times.\n",
    "\n",
    "Note that ```k``` is guaranteed to be a positive integer.\n",
    "\n",
    "You may assume that the input string is always valid; there are no extra white spaces, square brackets are well-formed, etc.\n",
    "\n",
    "Furthermore, you may assume that the original data does not contain any digits and that digits are only for those repeat numbers, ```k```.\n",
    "\n",
    "For example, there will not be input like ```3a``` or ```2[4]```.\n",
    "\n",
    "The test cases are generated so that the length of the output will never exceed $10^5$."
   ]
  },
  {
   "cell_type": "markdown",
   "id": "7aa66faa",
   "metadata": {},
   "source": [
    "**Example 1:**\n",
    "\n",
    "**Input:** s = \"3[a]2[bc]\"\n",
    "\n",
    "**Output:** \"aaabcbc\""
   ]
  },
  {
   "cell_type": "markdown",
   "id": "9b00b6ad",
   "metadata": {},
   "source": [
    "**Example 2:**\n",
    "\n",
    "**Input:** s = \"3[a2[c]]\"\n",
    "\n",
    "**Output:** \"accaccacc\""
   ]
  },
  {
   "cell_type": "markdown",
   "id": "5a48f233",
   "metadata": {},
   "source": [
    "**Example 3:**\n",
    "\n",
    "**Input:** s = \"2[abc]3[cd]ef\"\n",
    "\n",
    "**Output:** \"abcabccdcdcdef\""
   ]
  },
  {
   "cell_type": "markdown",
   "id": "29f4fa64",
   "metadata": {},
   "source": [
    "# Python Solution"
   ]
  },
  {
   "cell_type": "code",
   "execution_count": 1,
   "id": "b2f4e340",
   "metadata": {},
   "outputs": [],
   "source": [
    "class Solution:\n",
    "    def decodeString(self, s: str) -> str:\n",
    "        s1, s2 = [], []\n",
    "        curr_num, curr_str = 0, ''\n",
    "\n",
    "        for char in s:\n",
    "            if char.isdigit():\n",
    "                # print(char, \"It is a int\")\n",
    "                curr_num = curr_num * 10 + int(char)\n",
    "            else:\n",
    "                if char == '[':\n",
    "                    s1.append(curr_num)\n",
    "                    s2.append(curr_str)\n",
    "                    curr_num, curr_str = 0, ''\n",
    "                \n",
    "                elif char == ']':\n",
    "                    curr_str = s2.pop() + curr_str * s1.pop()\n",
    "                    \n",
    "                else:\n",
    "                    curr_str += char\n",
    "        return curr_str "
   ]
  },
  {
   "cell_type": "code",
   "execution_count": 6,
   "id": "11e26e7b",
   "metadata": {
    "scrolled": true
   },
   "outputs": [
    {
     "name": "stdout",
     "output_type": "stream",
     "text": [
      "3 : It is a digit\n",
      "[ : is Str\n",
      "a : is Str\n",
      "2 : It is a digit\n",
      "[ : is Str\n",
      "c : is Str\n",
      "] : is Str\n",
      "] : is Str\n"
     ]
    }
   ],
   "source": [
    "s = \"3[a2[c]]\"\n",
    "\n",
    "for i in s:\n",
    "#     print(i)\n",
    "    if i.isdigit():\n",
    "        print(i, \": It is a digit\")\n",
    "    else:\n",
    "        print(i, \": is Str\")\n"
   ]
  },
  {
   "cell_type": "code",
   "execution_count": 24,
   "id": "c9d3efc2",
   "metadata": {},
   "outputs": [
    {
     "name": "stdout",
     "output_type": "stream",
     "text": [
      "3\n",
      "0 Num and res \n",
      "3 It is a digit\n",
      "[\n",
      "3 Num and res \n",
      "[3] [''] <------------\n",
      "<------------>\n",
      "a\n",
      "0 Num and res \n",
      "2\n",
      "0 Num and res \n",
      "2 It is a digit\n",
      "[\n",
      "2 Num and res \n",
      "[3, 2] ['', ''] <------------\n",
      "<------------>\n",
      "c\n",
      "0 Num and res \n",
      "]\n",
      "0 Num and res \n",
      "]\n",
      "0 Num and res \n"
     ]
    }
   ],
   "source": [
    "s1, s2 = [], []\n",
    "\n",
    "num = 0\n",
    "res = ''\n",
    "\n",
    "s = \"3[a2[c]]\"\n",
    "\n",
    "for ik in s:\n",
    "    print(ik)\n",
    "    print(num,\"Num and res\", res)\n",
    "    if ik.isdigit():\n",
    "        num = num * 10 + int(ik)\n",
    "        print(num, \"It is a digit\")\n",
    "    elif ik == '[':\n",
    "        s1.append(num)\n",
    "        s2.append(res)\n",
    "        print(s1, s2, \"<------------\")\n",
    "        num, res = 0, ''\n",
    "        print(\"<------------>\")"
   ]
  },
  {
   "cell_type": "code",
   "execution_count": null,
   "id": "d7b77907",
   "metadata": {},
   "outputs": [],
   "source": [
    "class Solution:\n",
    "    def decodeString(self, s: str) -> str:\n",
    "        while s.count('[') > 0:\n",
    "            # finding next\n",
    "            point1 = s.find(']') # first right bracket, now need the closest left bracket\n",
    "            point2 = point1 - s[point1::-1].find('[') # left bracket corresponding to above\n",
    "            \n",
    "            number = point2 - 1\n",
    "            while s[number].isdigit():\n",
    "                number -= 1\n",
    "            number += 1\n",
    "            # now apply the change\n",
    "            s = s[:number] + s[point2+1:point1]*int(s[number:point2]) + s[point1+1:]\n",
    "        return s"
   ]
  },
  {
   "cell_type": "markdown",
   "id": "d989b188",
   "metadata": {},
   "source": [
    "<a href=\"https://github.com/DJ-Manjaray\" target=\"_blank\" class=\"top-left-corner\">\n",
    "  <img src=\"https://icons.iconarchive.com/icons/simpleicons-team/simple/32/github-icon.png\" width=\"32\" height=\"32\" alt=\"Deeraj Manjaray Github Profile\">\n",
    "</a>"
   ]
  },
  {
   "cell_type": "markdown",
   "id": "30dad0bf",
   "metadata": {},
   "source": [
    "<a href=\"https://www.linkedin.com/in/deeraj-manjaray/\" target=\"_blank\" class=\"top-left-corner\">\n",
    "  <img src=\"https://icons.iconarchive.com/icons/limav/flat-gradient-social/32/Linkedin-icon.png\" width=\"32\" height=\"32\" alt=\"Deeraj Manjaray LinkedIn Profile\">\n",
    "</a>"
   ]
  },
  {
   "cell_type": "markdown",
   "id": "46244b22",
   "metadata": {},
   "source": [
    "<a href=\"https://medium.com/@deeraj-manjaray\" target=\"_blank\" class=\"top-left-corner\">\n",
    "    <img src=\"https://icons.iconarchive.com/icons/simpleicons-team/simple/32/medium-icon.png\" width=\"32\" height=\"32\" alt=\"Deeraj Manjaray Medium Profile\">\n",
    "</a>"
   ]
  },
  {
   "cell_type": "markdown",
   "id": "1119dbf1",
   "metadata": {},
   "source": [
    "<a href=\"https://twitter.com/deerajmanjaray\" target=\"_blank\" class=\"top-left-corner\">\n",
    "    <img src=\"https://icons.iconarchive.com/icons/sicons/basic-round-social/32/twitter-icon.png\" width=\"32\" height=\"32\" alt=\"Deeraj Manjaray Twitter Profile\">\n",
    "</a>"
   ]
  },
  {
   "cell_type": "markdown",
   "id": "f63a78ca",
   "metadata": {},
   "source": [
    "*deerajmanjaray1997@gmail.com*"
   ]
  }
 ],
 "metadata": {
  "kernelspec": {
   "display_name": "Python 3 (ipykernel)",
   "language": "python",
   "name": "python3"
  },
  "language_info": {
   "codemirror_mode": {
    "name": "ipython",
    "version": 3
   },
   "file_extension": ".py",
   "mimetype": "text/x-python",
   "name": "python",
   "nbconvert_exporter": "python",
   "pygments_lexer": "ipython3",
   "version": "3.10.12"
  }
 },
 "nbformat": 4,
 "nbformat_minor": 5
}
