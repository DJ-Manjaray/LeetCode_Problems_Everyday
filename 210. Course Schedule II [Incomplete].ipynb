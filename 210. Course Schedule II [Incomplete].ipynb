{
 "cells": [
  {
   "cell_type": "markdown",
   "id": "7711a945",
   "metadata": {},
   "source": [
    "*deerajmanjaray1997@gmail.com*"
   ]
  },
  {
   "cell_type": "markdown",
   "id": "ac44d08b",
   "metadata": {},
   "source": [
    "### Companies:\n",
    "#### Accenture | Adobe | Amazon | American Express | Apple | Bloomberg | Dell | Expedia Goldman Sachs | Google | IBM | Intel | \n",
    "\n",
    "#### Intuit JPMorgan | Microsoft | Morgan Stanley | Oracle | PayPal | Salesforce | Samsung | Spotify | Uber | Visa | Walmart Global \n",
    "\n",
    "#### Tech | Yahoo | Zillow| Zoho | Zoom | Zomato"
   ]
  },
  {
   "cell_type": "markdown",
   "id": "f657d93d",
   "metadata": {},
   "source": [
    "There are a total of ```numCourses``` courses you have to take, labeled from ```0``` to ```numCourses - 1```. You are given an array ```prerequisites``` where ```prerequisites[i] = [ai, bi]``` indicates that you must take course ```bi``` first if you want to take course ```ai```.\n",
    "\n",
    " - For example, the pair ```[0, 1]```, indicates that to take course ```0``` you have to first take course ```1```.\n",
    "\n",
    "Return the ordering of courses you should take to finish all courses. If there are many valid answers, return any of them. If it is impossible to finish all courses, return an empty array."
   ]
  },
  {
   "cell_type": "markdown",
   "id": "7aa66faa",
   "metadata": {},
   "source": [
    "**Example 1:**\n",
    "\n",
    "**Input:** numCourses = 2, prerequisites = [[1,0]]\n",
    "\n",
    "**Output:** [0,1]\n",
    "\n",
    "**Explanation:** There are a total of 2 courses to take. To take course 1 you should have finished course 0. So the correct course order is [0,1]."
   ]
  },
  {
   "cell_type": "markdown",
   "id": "9b00b6ad",
   "metadata": {},
   "source": [
    "**Example 2:**\n",
    "\n",
    "**Input:** numCourses = 4, prerequisites = [[1,0],[2,0],[3,1],[3,2]]\n",
    "\n",
    "**Output:** [0,2,1,3]\n",
    "\n",
    "**Explanation:** There are a total of 4 courses to take. To take course 3 you should have finished both courses 1 and 2. Both courses 1 and 2 should be taken after you finished course 0.\n",
    "So one correct course order is [0,1,2,3]. Another correct ordering is [0,2,1,3]."
   ]
  },
  {
   "cell_type": "markdown",
   "id": "5a48f233",
   "metadata": {},
   "source": [
    "**Example 3:**\n",
    "\n",
    "**Input:** numCourses = 1, prerequisites = []\n",
    "\n",
    "**Output:** [0]"
   ]
  },
  {
   "cell_type": "markdown",
   "id": "29f4fa64",
   "metadata": {},
   "source": [
    "# Python Solution"
   ]
  },
  {
   "cell_type": "code",
   "execution_count": null,
   "id": "b2f4e340",
   "metadata": {},
   "outputs": [],
   "source": [
    "class Solution:\n",
    "    def findOrder(self, numCourses: int, prerequisites: list[List[int]]) -> list[int]:\n",
    "        "
   ]
  },
  {
   "cell_type": "code",
   "execution_count": 5,
   "id": "12f48e17",
   "metadata": {},
   "outputs": [],
   "source": [
    "from collections import deque, defaultdict"
   ]
  },
  {
   "cell_type": "code",
   "execution_count": 3,
   "id": "dd8d3f12",
   "metadata": {},
   "outputs": [],
   "source": [
    "def findOrder(numCourses: int, prerequisites: list[list[int]]) -> list[int]:\n",
    "    print(numCourses,\"**\",prerequisites)\n",
    "    \n",
    "    "
   ]
  },
  {
   "cell_type": "code",
   "execution_count": 8,
   "id": "7ffa4cb7",
   "metadata": {},
   "outputs": [
    {
     "name": "stdout",
     "output_type": "stream",
     "text": [
      "1 0\n",
      "2 0\n",
      "3 1\n",
      "3 2\n"
     ]
    }
   ],
   "source": [
    "prerequisites = [[1,0],[2,0],[3,1],[3,2]]\n",
    "\n",
    "for m, n in prerequisites:\n",
    "    print(m, n)"
   ]
  },
  {
   "cell_type": "markdown",
   "id": "d989b188",
   "metadata": {},
   "source": [
    "<a href=\"https://github.com/DJ-Manjaray\" target=\"_blank\" class=\"top-left-corner\">\n",
    "  <img src=\"https://icons.iconarchive.com/icons/simpleicons-team/simple/32/github-icon.png\" width=\"32\" height=\"32\" alt=\"Deeraj Manjaray Github Profile\">\n",
    "</a>"
   ]
  },
  {
   "cell_type": "markdown",
   "id": "30dad0bf",
   "metadata": {},
   "source": [
    "<a href=\"https://www.linkedin.com/in/deeraj-manjaray/\" target=\"_blank\" class=\"top-left-corner\">\n",
    "  <img src=\"https://icons.iconarchive.com/icons/limav/flat-gradient-social/32/Linkedin-icon.png\" width=\"32\" height=\"32\" alt=\"Deeraj Manjaray LinkedIn Profile\">\n",
    "</a>"
   ]
  },
  {
   "cell_type": "markdown",
   "id": "46244b22",
   "metadata": {},
   "source": [
    "<a href=\"https://medium.com/@deeraj-manjaray\" target=\"_blank\" class=\"top-left-corner\">\n",
    "    <img src=\"https://icons.iconarchive.com/icons/simpleicons-team/simple/32/medium-icon.png\" width=\"32\" height=\"32\" alt=\"Deeraj Manjaray Medium Profile\">\n",
    "</a>"
   ]
  },
  {
   "cell_type": "markdown",
   "id": "1119dbf1",
   "metadata": {},
   "source": [
    "<a href=\"https://twitter.com/deerajmanjaray\" target=\"_blank\" class=\"top-left-corner\">\n",
    "    <img src=\"https://icons.iconarchive.com/icons/sicons/basic-round-social/32/twitter-icon.png\" width=\"32\" height=\"32\" alt=\"Deeraj Manjaray Twitter Profile\">\n",
    "</a>"
   ]
  },
  {
   "cell_type": "markdown",
   "id": "f63a78ca",
   "metadata": {},
   "source": [
    "*deerajmanjaray1997@gmail.com*"
   ]
  }
 ],
 "metadata": {
  "kernelspec": {
   "display_name": "Python 3 (ipykernel)",
   "language": "python",
   "name": "python3"
  },
  "language_info": {
   "codemirror_mode": {
    "name": "ipython",
    "version": 3
   },
   "file_extension": ".py",
   "mimetype": "text/x-python",
   "name": "python",
   "nbconvert_exporter": "python",
   "pygments_lexer": "ipython3",
   "version": "3.10.12"
  }
 },
 "nbformat": 4,
 "nbformat_minor": 5
}
